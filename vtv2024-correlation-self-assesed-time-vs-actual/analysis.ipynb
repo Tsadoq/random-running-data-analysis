{
 "cells": [
  {
   "cell_type": "code",
   "id": "initial_id",
   "metadata": {
    "collapsed": true,
    "ExecuteTime": {
     "end_time": "2024-11-04T15:50:15.996454Z",
     "start_time": "2024-11-04T15:50:15.575241Z"
    }
   },
   "source": [
    "import polars as pl\n",
    "import plotly.express as px\n",
    "import plotly.graph_objects as go"
   ],
   "outputs": [],
   "execution_count": 1
  },
  {
   "metadata": {
    "ExecuteTime": {
     "end_time": "2024-11-04T15:50:16.009113Z",
     "start_time": "2024-11-04T15:50:15.999733Z"
    }
   },
   "cell_type": "code",
   "source": "df = pl.read_csv(\"data.csv\")",
   "id": "47363122c4366b8",
   "outputs": [],
   "execution_count": 2
  },
  {
   "metadata": {
    "ExecuteTime": {
     "end_time": "2024-11-04T15:50:16.080184Z",
     "start_time": "2024-11-04T15:50:16.075884Z"
    }
   },
   "cell_type": "code",
   "source": "df",
   "id": "9ef28ff6980d2749",
   "outputs": [
    {
     "data": {
      "text/plain": [
       "shape: (256, 23)\n",
       "┌─────┬───────────┬─────────────────────┬──────┬───┬─────────┬──────────┬──────────┬──────────┐\n",
       "│ Pos ┆ Pettorale ┆ Atleta              ┆ Naz  ┆ … ┆ Tempo_9 ┆ Tempo_10 ┆ Tempo_11 ┆ Tempo_12 │\n",
       "│ --- ┆ ---       ┆ ---                 ┆ ---  ┆   ┆ ---     ┆ ---      ┆ ---      ┆ ---      │\n",
       "│ i64 ┆ i64       ┆ str                 ┆ str  ┆   ┆ str     ┆ str      ┆ str      ┆ str      │\n",
       "╞═════╪═══════════╪═════════════════════╪══════╪═══╪═════════╪══════════╪══════════╪══════════╡\n",
       "│ 1   ┆ 1         ┆ AYMONOD HENRI       ┆ null ┆ … ┆ null    ┆ null     ┆ null     ┆ null     │\n",
       "│ 2   ┆ 3         ┆ BONINO FEDERICO     ┆ null ┆ … ┆ null    ┆ null     ┆ null     ┆ null     │\n",
       "│ 3   ┆ 4         ┆ BRUNOD DENNIS       ┆ null ┆ … ┆ null    ┆ null     ┆ null     ┆ null     │\n",
       "│ 4   ┆ 83        ┆ GERBAZ STEFANO      ┆ null ┆ … ┆ null    ┆ null     ┆ null     ┆ null     │\n",
       "│ 5   ┆ 6         ┆ CUAZ WLADIMIR       ┆ null ┆ … ┆ null    ┆ null     ┆ null     ┆ null     │\n",
       "│ …   ┆ …         ┆ …                   ┆ …    ┆ … ┆ …       ┆ …        ┆ …        ┆ …        │\n",
       "│ 252 ┆ 285       ┆ BOVIO STEFANO       ┆ null ┆ … ┆ null    ┆ null     ┆ null     ┆ null     │\n",
       "│ 253 ┆ 263       ┆ DEMARCHI CRISTINA   ┆ null ┆ … ┆ null    ┆ null     ┆ null     ┆ null     │\n",
       "│ 254 ┆ 273       ┆ MARIAN CARMEN-DIANA ┆ null ┆ … ┆ null    ┆ null     ┆ null     ┆ null     │\n",
       "│ 255 ┆ 299       ┆ FUSANI GIANPIERO    ┆ null ┆ … ┆ null    ┆ null     ┆ null     ┆ null     │\n",
       "│ 256 ┆ 214       ┆ ARCARO GIANLUCA     ┆ null ┆ … ┆ null    ┆ null     ┆ null     ┆ null     │\n",
       "└─────┴───────────┴─────────────────────┴──────┴───┴─────────┴──────────┴──────────┴──────────┘"
      ],
      "text/html": [
       "<div><style>\n",
       ".dataframe > thead > tr,\n",
       ".dataframe > tbody > tr {\n",
       "  text-align: right;\n",
       "  white-space: pre-wrap;\n",
       "}\n",
       "</style>\n",
       "<small>shape: (256, 23)</small><table border=\"1\" class=\"dataframe\"><thead><tr><th>Pos</th><th>Pettorale</th><th>Atleta</th><th>Naz</th><th>Totale</th><th>Sex</th><th>Cat</th><th>Anno</th><th>Società</th><th>Pos/Sex</th><th>Pos/Cat</th><th>Tempo_1</th><th>Tempo_2</th><th>Tempo_3</th><th>Tempo_4</th><th>Tempo_5</th><th>Tempo_6</th><th>Tempo_7</th><th>Tempo_8</th><th>Tempo_9</th><th>Tempo_10</th><th>Tempo_11</th><th>Tempo_12</th></tr><tr><td>i64</td><td>i64</td><td>str</td><td>str</td><td>i64</td><td>str</td><td>str</td><td>i64</td><td>str</td><td>f64</td><td>f64</td><td>str</td><td>str</td><td>str</td><td>str</td><td>str</td><td>str</td><td>str</td><td>str</td><td>str</td><td>str</td><td>str</td><td>str</td></tr></thead><tbody><tr><td>1</td><td>1</td><td>&quot;AYMONOD HENRI&quot;</td><td>null</td><td>1161</td><td>&quot;M&quot;</td><td>&quot;OVER20_M&quot;</td><td>1996</td><td>&quot;U.S. MALONNO&quot;</td><td>1.0</td><td>null</td><td>null</td><td>null</td><td>null</td><td>null</td><td>null</td><td>null</td><td>null</td><td>null</td><td>null</td><td>null</td><td>null</td><td>null</td></tr><tr><td>2</td><td>3</td><td>&quot;BONINO FEDERICO&quot;</td><td>null</td><td>1290</td><td>&quot;M&quot;</td><td>&quot;OVER20_M&quot;</td><td>2002</td><td>null</td><td>2.0</td><td>null</td><td>null</td><td>null</td><td>null</td><td>null</td><td>null</td><td>null</td><td>null</td><td>null</td><td>null</td><td>null</td><td>null</td><td>null</td></tr><tr><td>3</td><td>4</td><td>&quot;BRUNOD DENNIS&quot;</td><td>null</td><td>1318</td><td>&quot;M&quot;</td><td>&quot;OVER35_M&quot;</td><td>1978</td><td>&quot;ATLETICA MONTEROSA FOGU ARNAD&quot;</td><td>3.0</td><td>null</td><td>null</td><td>null</td><td>null</td><td>null</td><td>null</td><td>null</td><td>null</td><td>null</td><td>null</td><td>null</td><td>null</td><td>null</td></tr><tr><td>4</td><td>83</td><td>&quot;GERBAZ STEFANO&quot;</td><td>null</td><td>1352</td><td>&quot;M&quot;</td><td>&quot;UNDER20_M&quot;</td><td>2005</td><td>null</td><td>4.0</td><td>null</td><td>null</td><td>null</td><td>null</td><td>null</td><td>null</td><td>null</td><td>null</td><td>null</td><td>null</td><td>null</td><td>null</td><td>null</td></tr><tr><td>5</td><td>6</td><td>&quot;CUAZ WLADIMIR&quot;</td><td>null</td><td>1361</td><td>&quot;M&quot;</td><td>&quot;OVER20_M&quot;</td><td>1990</td><td>&quot;CICLI LUCCHINI&quot;</td><td>5.0</td><td>null</td><td>null</td><td>null</td><td>null</td><td>null</td><td>null</td><td>null</td><td>null</td><td>null</td><td>null</td><td>null</td><td>null</td><td>null</td></tr><tr><td>&hellip;</td><td>&hellip;</td><td>&hellip;</td><td>&hellip;</td><td>&hellip;</td><td>&hellip;</td><td>&hellip;</td><td>&hellip;</td><td>&hellip;</td><td>&hellip;</td><td>&hellip;</td><td>&hellip;</td><td>&hellip;</td><td>&hellip;</td><td>&hellip;</td><td>&hellip;</td><td>&hellip;</td><td>&hellip;</td><td>&hellip;</td><td>&hellip;</td><td>&hellip;</td><td>&hellip;</td><td>&hellip;</td></tr><tr><td>252</td><td>285</td><td>&quot;BOVIO STEFANO&quot;</td><td>null</td><td>2829</td><td>&quot;M&quot;</td><td>&quot;OVER50_M&quot;</td><td>1974</td><td>&quot;RUNCARD&quot;</td><td>200.0</td><td>46.0</td><td>null</td><td>null</td><td>null</td><td>null</td><td>null</td><td>null</td><td>null</td><td>null</td><td>null</td><td>null</td><td>null</td><td>null</td></tr><tr><td>253</td><td>263</td><td>&quot;DEMARCHI CRISTINA&quot;</td><td>null</td><td>2890</td><td>&quot;F&quot;</td><td>&quot;OVER50_F&quot;</td><td>1969</td><td>&quot;POLISPORTIVA SANT&#x27;ORSO AOSTA&quot;</td><td>53.0</td><td>17.0</td><td>null</td><td>null</td><td>null</td><td>null</td><td>null</td><td>null</td><td>null</td><td>null</td><td>null</td><td>null</td><td>null</td><td>null</td></tr><tr><td>254</td><td>273</td><td>&quot;MARIAN CARMEN-DIANA&quot;</td><td>null</td><td>2971</td><td>&quot;F&quot;</td><td>&quot;OVER35_F&quot;</td><td>1982</td><td>null</td><td>54.0</td><td>11.0</td><td>null</td><td>null</td><td>null</td><td>null</td><td>null</td><td>null</td><td>null</td><td>null</td><td>null</td><td>null</td><td>null</td><td>null</td></tr><tr><td>255</td><td>299</td><td>&quot;FUSANI GIANPIERO&quot;</td><td>null</td><td>3278</td><td>&quot;M&quot;</td><td>&quot;OVER60_M&quot;</td><td>1953</td><td>&quot;A.P.D. PONT-SAINT-MARTIN&quot;</td><td>201.0</td><td>14.0</td><td>null</td><td>null</td><td>null</td><td>null</td><td>null</td><td>null</td><td>null</td><td>null</td><td>null</td><td>null</td><td>null</td><td>null</td></tr><tr><td>256</td><td>214</td><td>&quot;ARCARO GIANLUCA&quot;</td><td>null</td><td>3504</td><td>&quot;M&quot;</td><td>&quot;OVER35_M&quot;</td><td>1981</td><td>&quot;POLISPORTIVA SANT&#x27;ORSO AOSTA&quot;</td><td>202.0</td><td>49.0</td><td>null</td><td>null</td><td>null</td><td>null</td><td>null</td><td>null</td><td>null</td><td>null</td><td>null</td><td>null</td><td>null</td><td>null</td></tr></tbody></table></div>"
      ]
     },
     "execution_count": 3,
     "metadata": {},
     "output_type": "execute_result"
    }
   ],
   "execution_count": 3
  },
  {
   "metadata": {
    "ExecuteTime": {
     "end_time": "2024-11-04T15:53:00.362982Z",
     "start_time": "2024-11-04T15:53:00.302524Z"
    }
   },
   "cell_type": "code",
   "source": "px.scatter(df.to_pandas(), x=\"Pos\", y=\"Pettorale\", color=\"Cat\", hover_name=\"Atleta\", trendline=\"lowess\")",
   "id": "350b66e5a179ab5b",
   "outputs": [
    {
     "data": {
      "application/vnd.plotly.v1+json": {
       "data": [
        {
         "hovertemplate": "<b>%{hovertext}</b><br><br>Cat=OVER20_M<br>Pos=%{x}<br>Pettorale=%{y}<extra></extra>",
         "hovertext": [
          "AYMONOD HENRI",
          "BONINO FEDERICO",
          "CUAZ WLADIMIR",
          "VOTA STEFANO",
          "SILETTO MATTEO",
          "VERRAZ YANNICK",
          "DONZEL DENIS",
          "DEANOZ CLEMENT",
          "JANIN JOEL",
          "CHAMPRETAVY FABIEN",
          "CHRISTILLE CEDRIC",
          "VACCHIERI MARCO",
          "BIANQUIN MATTHIEU",
          "GONTIER ALBERTO",
          "NOUSSAN ALEX",
          "PEANI GIANLUCA",
          "MARCHIANDO MATTEO",
          "OJETTI FABIO ROSILIO",
          "AIELLO MICHELE",
          "JOLY MATTIA",
          "PANGALLO MATTEO",
          "BUSCHINO PAOLO",
          "BONETTA STEFANO",
          "GRIVEL THIERRY",
          "CRAFA ALESSIO",
          "COURTHOUD MATHIEU",
          "GNEMMI LUCA",
          "CHENAL MATTEO",
          "PETITJACQUES MIGUEL",
          "PEZZOLI ALESSANDRO",
          "SGAMMEGLIA ROBERT",
          "QUENDOZ CHRISTIAN",
          "ZORZI NAZARENO UMBERTO",
          "OBERT JACQUES",
          "CASTAGNOLI SIMONE",
          "VENTURA SIMONE",
          "VAUTERIN RAPHAEL",
          "REVERDITO FABIO",
          "FALCIONI FABIO",
          "GRITTI MATTEO",
          "COMÉ ANDRÉ",
          "MILLIERY RICHARD",
          "PESSION DANIELE",
          "ARCO FABIO",
          "COLLIARD OMAR",
          "ROVATI MATTEO",
          "MAZZA ANTONIO",
          "PIEROPAN FEDERICO",
          "CLEMENTE PISATI CRISTIAN",
          "PERRIER LAURENT",
          "MANELLA LAURENT",
          "SILVANI LAURENT",
          "CHALLANCIN MICHEL",
          "ADAM FLORIN",
          "LINTY ETIENNE",
          "VILLOSIO MATTEO",
          "STELLA LORENZO",
          "TREVISAN MATTEO"
         ],
         "legendgroup": "OVER20_M",
         "marker": {
          "color": "#636efa",
          "symbol": "circle"
         },
         "mode": "markers",
         "name": "OVER20_M",
         "orientation": "v",
         "showlegend": true,
         "x": [
          1,
          2,
          5,
          6,
          8,
          9,
          13,
          14,
          15,
          20,
          23,
          26,
          27,
          29,
          34,
          37,
          39,
          40,
          47,
          49,
          52,
          53,
          55,
          57,
          62,
          63,
          64,
          65,
          66,
          74,
          75,
          80,
          82,
          83,
          87,
          88,
          94,
          97,
          101,
          103,
          105,
          111,
          112,
          114,
          129,
          135,
          137,
          144,
          147,
          148,
          167,
          174,
          180,
          195,
          199,
          215,
          224,
          248
         ],
         "xaxis": "x",
         "y": [
          1,
          3,
          6,
          27,
          5,
          8,
          14,
          13,
          16,
          12,
          10,
          87,
          32,
          17,
          94,
          106,
          122,
          164,
          159,
          100,
          162,
          96,
          146,
          18,
          93,
          11,
          132,
          30,
          133,
          118,
          81,
          29,
          89,
          113,
          191,
          135,
          98,
          206,
          149,
          142,
          82,
          139,
          99,
          163,
          101,
          160,
          205,
          155,
          224,
          207,
          226,
          248,
          165,
          186,
          212,
          223,
          169,
          270
         ],
         "yaxis": "y",
         "type": "scatter"
        },
        {
         "hovertemplate": "<b>LOWESS trendline</b><br><br>Cat=OVER20_M<br>Pos=%{x}<br>Pettorale=%{y} <b>(trend)</b><extra></extra>",
         "legendgroup": "OVER20_M",
         "marker": {
          "color": "#636efa",
          "symbol": "circle"
         },
         "mode": "lines",
         "name": "OVER20_M",
         "showlegend": false,
         "x": [
          1,
          2,
          5,
          6,
          8,
          9,
          13,
          14,
          15,
          20,
          23,
          26,
          27,
          29,
          34,
          37,
          39,
          40,
          47,
          49,
          52,
          53,
          55,
          57,
          62,
          63,
          64,
          65,
          66,
          74,
          75,
          80,
          82,
          83,
          87,
          88,
          94,
          97,
          101,
          103,
          105,
          111,
          112,
          114,
          129,
          135,
          137,
          144,
          147,
          148,
          167,
          174,
          180,
          195,
          199,
          215,
          224,
          248
         ],
         "xaxis": "x",
         "y": [
          0.23989905695634553,
          2.2681876709382824,
          8.317528038152147,
          10.321032230627075,
          14.306439255363227,
          16.28747686958046,
          24.124173933829546,
          26.05946381304492,
          27.98441473922912,
          37.44367810438584,
          42.97808612667454,
          48.40287372397189,
          50.187248102554825,
          53.72132179897813,
          62.3792013098968,
          67.49703243209754,
          70.90908844530541,
          72.62425083566553,
          85.21856479298361,
          89.06955303985823,
          92.07520619559034,
          93.40131651024173,
          95.97129742541028,
          98.06584552591191,
          103.2754859148373,
          104.40282259294672,
          105.2655109352577,
          105.9565859905678,
          106.63241868906861,
          111.6358190086976,
          112.23572174518831,
          114.78196341357477,
          115.83115629372763,
          116.2373834824952,
          118.26181287586954,
          118.82505549970897,
          124.29224524496315,
          127.53036775551061,
          131.65521092435065,
          133.49393737487256,
          135.60004531736888,
          142.8218063378422,
          144.1078635936154,
          146.62063177934695,
          162.32113354062253,
          167.46571687458095,
          169.1880123187775,
          173.70427290897464,
          175.45852993688493,
          176.0382796824597,
          188.48983846599526,
          193.62669603598195,
          198.14271511850046,
          209.41971990052343,
          212.37577711860263,
          223.8945117101545,
          230.1552078699156,
          246.28295379876343
         ],
         "yaxis": "y",
         "type": "scatter"
        },
        {
         "hovertemplate": "<b>%{hovertext}</b><br><br>Cat=OVER35_M<br>Pos=%{x}<br>Pettorale=%{y}<extra></extra>",
         "hovertext": [
          "BRUNOD DENNIS",
          "BLANC FABRIZIO",
          "VALLET RUDY",
          "CUAZ FABRIZIO",
          "VUILLERMOZ NADIR",
          "MONTALTO CARLO FEDERICO",
          "PESSION NICOLA",
          "DUCRET ALEX",
          "SCIEGHI MATTEO",
          "CODA CASEIA DANIELE",
          "TEPPA GUIDO",
          "ARTAZ TIZIANO",
          "PARNISARI RUBEN DARIO",
          "PHILIPPOT MORENO",
          "SPANO' LUCA",
          "FUSO PAOLO",
          "DESANA FABIO FRANCESCO",
          "CAVALLO MARCO",
          "IMPIERI DAVIDE",
          "DEMURO MASSIMO",
          "RIZZATO NICOLÒ",
          "PETEY PATRICK",
          "VERRAZ DAVIDE",
          "PETEY ROBERTO",
          "RAPELLI ROBERTO",
          "VITTAZ DEMIS",
          "BREUVÉ MICHEL",
          "FAVRE JEAN CLAUDE",
          "POULIN SÉBASTIEN",
          "CAPPELLARI MISHA RIZIERI",
          "MICHELETTI DAVIDE",
          "BACCA RICCARDO",
          "FOY MANUEL",
          "BELTRAMELLI ANDREA",
          "ASCOLI ALESSANDRO",
          "IACHETTI GIUSEPPE",
          "ZANNI CRISTIAN",
          "MERSI ENRICO",
          "COMELLO PIER PAOLO",
          "TERZI DI BERGAMO NICCOLÒ",
          "CECCARELLI GABRIELE",
          "MOSCA ANTONIO",
          "BELLON ALESSANDRO",
          "DE LUCIA FABIO LUCA",
          "REZZARO DANIELE",
          "ANTONIN CLAUDIO ROGER",
          "MILLIERY YVAN",
          "GIANSETTO STEFANO",
          "VIGITELLO CORRADO",
          "ARCARO GIANLUCA"
         ],
         "legendgroup": "OVER35_M",
         "marker": {
          "color": "#EF553B",
          "symbol": "circle"
         },
         "mode": "markers",
         "name": "OVER35_M",
         "orientation": "v",
         "showlegend": true,
         "x": [
          3,
          11,
          12,
          17,
          24,
          33,
          38,
          46,
          61,
          67,
          70,
          76,
          78,
          81,
          84,
          92,
          93,
          98,
          109,
          113,
          120,
          121,
          122,
          123,
          124,
          131,
          132,
          133,
          138,
          143,
          146,
          149,
          156,
          158,
          166,
          175,
          183,
          187,
          194,
          198,
          200,
          206,
          208,
          209,
          211,
          227,
          234,
          238,
          250,
          256
         ],
         "xaxis": "x",
         "y": [
          4,
          25,
          21,
          90,
          23,
          95,
          33,
          110,
          91,
          161,
          216,
          150,
          137,
          112,
          134,
          84,
          209,
          176,
          123,
          189,
          107,
          138,
          108,
          203,
          179,
          193,
          88,
          173,
          170,
          172,
          239,
          199,
          175,
          229,
          219,
          246,
          250,
          198,
          241,
          261,
          242,
          249,
          220,
          257,
          278,
          115,
          294,
          271,
          283,
          214
         ],
         "yaxis": "y",
         "type": "scatter"
        },
        {
         "hovertemplate": "<b>LOWESS trendline</b><br><br>Cat=OVER35_M<br>Pos=%{x}<br>Pettorale=%{y} <b>(trend)</b><extra></extra>",
         "legendgroup": "OVER35_M",
         "marker": {
          "color": "#EF553B",
          "symbol": "circle"
         },
         "mode": "lines",
         "name": "OVER35_M",
         "showlegend": false,
         "x": [
          3,
          11,
          12,
          17,
          24,
          33,
          38,
          46,
          61,
          67,
          70,
          76,
          78,
          81,
          84,
          92,
          93,
          98,
          109,
          113,
          120,
          121,
          122,
          123,
          124,
          131,
          132,
          133,
          138,
          143,
          146,
          149,
          156,
          158,
          166,
          175,
          183,
          187,
          194,
          198,
          200,
          206,
          208,
          209,
          211,
          227,
          234,
          238,
          250,
          256
         ],
         "xaxis": "x",
         "y": [
          25.57649212093019,
          36.915430377458264,
          38.32043669191773,
          45.30383327938599,
          54.96583508742397,
          67.18475937010474,
          73.87884964048145,
          84.46351051114367,
          104.129698989535,
          112.1390086889097,
          116.2490489360723,
          124.69314049935346,
          127.48752841024809,
          131.01915517445588,
          134.80970772683662,
          141.44048665598507,
          142.2491620172716,
          146.81448876766638,
          156.05570484952634,
          159.4689579479069,
          165.20519933445436,
          165.96086708006322,
          166.71589178438805,
          167.72098890702694,
          168.48762546161632,
          174.19465583035162,
          175.30838331912537,
          176.4183305957679,
          181.39781065476765,
          186.73942903533504,
          190.02033617703117,
          193.1020722668183,
          200.3632812156576,
          202.47545172541157,
          211.33286095234772,
          220.93238093322802,
          229.05426674894605,
          232.49044019428698,
          238.07677977813654,
          241.16462600392717,
          242.69565197261738,
          247.25769975351858,
          248.7706464534721,
          249.52590210621221,
          251.03422936635633,
          262.98700366244924,
          268.13237828316636,
          271.0431141876743,
          279.6017556001724,
          283.75862250436484
         ],
         "yaxis": "y",
         "type": "scatter"
        },
        {
         "hovertemplate": "<b>%{hovertext}</b><br><br>Cat=UNDER20_M<br>Pos=%{x}<br>Pettorale=%{y}<extra></extra>",
         "hovertext": [
          "GERBAZ STEFANO",
          "GADIN DAVIDE",
          "BARREL DEWIS",
          "HERIN GABRIEL",
          "PHILIPPOT THIERRY",
          "GASPARD LUCAS",
          "CHADEL CIEN",
          "BRUNOD ERIK",
          "BONIN ALESSANDRO",
          "CESA HERVÉ",
          "BROGLIO TOMMASO",
          "DE PIERI GABRIELE",
          "ROULLET CHRISTOPHE FEDERICO",
          "DALLA PALMA FRANCESCO",
          "USSEGLIO GROS ROBERTO",
          "DISTROTTI MATTEO"
         ],
         "legendgroup": "UNDER20_M",
         "marker": {
          "color": "#00cc96",
          "symbol": "circle"
         },
         "mode": "markers",
         "name": "UNDER20_M",
         "orientation": "v",
         "showlegend": true,
         "x": [
          4,
          7,
          16,
          18,
          22,
          44,
          60,
          73,
          91,
          96,
          99,
          104,
          110,
          155,
          165,
          225
         ],
         "xaxis": "x",
         "y": [
          83,
          7,
          24,
          85,
          114,
          128,
          156,
          26,
          131,
          196,
          86,
          211,
          125,
          210,
          124,
          279
         ],
         "yaxis": "y",
         "type": "scatter"
        },
        {
         "hovertemplate": "<b>LOWESS trendline</b><br><br>Cat=UNDER20_M<br>Pos=%{x}<br>Pettorale=%{y} <b>(trend)</b><extra></extra>",
         "legendgroup": "UNDER20_M",
         "marker": {
          "color": "#00cc96",
          "symbol": "circle"
         },
         "mode": "lines",
         "name": "UNDER20_M",
         "showlegend": false,
         "x": [
          4,
          7,
          16,
          18,
          22,
          44,
          60,
          73,
          91,
          96,
          99,
          104,
          110,
          155,
          165,
          225
         ],
         "xaxis": "x",
         "y": [
          49.327825633376925,
          54.28124626591634,
          68.4798576626457,
          71.48059877085575,
          77.30816451631935,
          104.93747796738,
          118.99412893998775,
          128.25036047520706,
          137.48467498732052,
          140.9683519717067,
          143.4940265366218,
          150.09668193848017,
          154.14740652636434,
          178.19733552181543,
          193.33721195914637,
          259.8404067176747
         ],
         "yaxis": "y",
         "type": "scatter"
        },
        {
         "hovertemplate": "<b>%{hovertext}</b><br><br>Cat=UNDER16_M<br>Pos=%{x}<br>Pettorale=%{y}<extra></extra>",
         "hovertext": [
          "MAGISTRO MARCO",
          "PIVOT CRISTIAN GABRIELE",
          "BARREL ERWIN",
          "BELTRAMELLI LUCA",
          "FALCHI LAMBERTO",
          "GORRAZ NOAH",
          "PHILIPPOT JOEL",
          "VAGNEUR LEONARDO",
          "BELOTTI MICHELE",
          "MILLIERY MATHIAS",
          "BELOTTI FEDERICO",
          "CHAUSSOD JACQUES",
          "PERARDI SIMONE",
          "LUBOZ CORRADO",
          "TANINI CRISTIAN",
          "BONUCCELLI MARCO"
         ],
         "legendgroup": "UNDER16_M",
         "marker": {
          "color": "#ab63fa",
          "symbol": "circle"
         },
         "mode": "markers",
         "name": "UNDER16_M",
         "orientation": "v",
         "showlegend": true,
         "x": [
          10,
          21,
          30,
          41,
          43,
          50,
          58,
          68,
          77,
          95,
          126,
          128,
          136,
          164,
          197,
          221
         ],
         "xaxis": "x",
         "y": [
          9,
          20,
          35,
          102,
          116,
          31,
          19,
          185,
          147,
          182,
          148,
          180,
          117,
          255,
          129,
          231
         ],
         "yaxis": "y",
         "type": "scatter"
        },
        {
         "hovertemplate": "<b>LOWESS trendline</b><br><br>Cat=UNDER16_M<br>Pos=%{x}<br>Pettorale=%{y} <b>(trend)</b><extra></extra>",
         "legendgroup": "UNDER16_M",
         "marker": {
          "color": "#ab63fa",
          "symbol": "circle"
         },
         "mode": "lines",
         "name": "UNDER16_M",
         "showlegend": false,
         "x": [
          10,
          21,
          30,
          41,
          43,
          50,
          58,
          68,
          77,
          95,
          126,
          128,
          136,
          164,
          197,
          221
         ],
         "xaxis": "x",
         "y": [
          6.670152208488254,
          28.445148702166836,
          46.195114272832654,
          68.37972138617151,
          72.6010771735074,
          88.13887143938268,
          106.25811309669493,
          127.12370360112753,
          146.8036045229578,
          156.5297321911418,
          168.3095181194804,
          169.44570971453498,
          170.2728573402204,
          177.94755338985445,
          195.10532561231858,
          206.4878000689401
         ],
         "yaxis": "y",
         "type": "scatter"
        },
        {
         "hovertemplate": "<b>%{hovertext}</b><br><br>Cat=OVER20_F<br>Pos=%{x}<br>Pettorale=%{y}<extra></extra>",
         "hovertext": [
          "VERONESE ILARIA",
          "CONTI FABIOLA",
          "SEGOR LAURA",
          "JUNOD NOEMI",
          "TRUC SYLVIE",
          "MACRI' GIADA",
          "BAROLIN DEBORA",
          "CHIAVAZZA IRMA",
          "MALUQUIN SEGOR ANAÏS",
          "BIANCO ELISA",
          "VALSECCHI MONICA",
          "NOBILI SVEVA",
          "MARCHISIO GIULIA",
          "BLANC MAGUELONNE",
          "LUCIANAZ EYVIA",
          "SEGATTO GIULIA",
          "COSSARD ARIANNA",
          "FERROD MONIQUE",
          "MARTINET CAMILLA"
         ],
         "legendgroup": "OVER20_F",
         "marker": {
          "color": "#FFA15A",
          "symbol": "circle"
         },
         "mode": "markers",
         "name": "OVER20_F",
         "orientation": "v",
         "showlegend": true,
         "x": [
          19,
          36,
          51,
          54,
          56,
          100,
          106,
          115,
          141,
          142,
          154,
          159,
          172,
          179,
          186,
          193,
          204,
          216,
          246
         ],
         "xaxis": "x",
         "y": [
          37,
          36,
          40,
          38,
          41,
          213,
          215,
          44,
          109,
          188,
          258,
          251,
          222,
          218,
          233,
          197,
          228,
          208,
          264
         ],
         "yaxis": "y",
         "type": "scatter"
        },
        {
         "hovertemplate": "<b>LOWESS trendline</b><br><br>Cat=OVER20_F<br>Pos=%{x}<br>Pettorale=%{y} <b>(trend)</b><extra></extra>",
         "legendgroup": "OVER20_F",
         "marker": {
          "color": "#FFA15A",
          "symbol": "circle"
         },
         "mode": "lines",
         "name": "OVER20_F",
         "showlegend": false,
         "x": [
          19,
          36,
          51,
          54,
          56,
          100,
          106,
          115,
          141,
          142,
          154,
          159,
          172,
          179,
          186,
          193,
          204,
          216,
          246
         ],
         "xaxis": "x",
         "y": [
          -3.6355065274787575,
          30.087650186511105,
          61.33559176038342,
          67.64394671970096,
          71.84723307619588,
          154.78552926867022,
          169.47418849430815,
          204.82580146336474,
          212.51656117981878,
          212.47580356945204,
          212.3797855126415,
          215.4112683315586,
          219.55692073611016,
          220.61793359480967,
          220.9926688503033,
          223.11187041962216,
          227.4027218678138,
          231.75464150416198,
          242.7339498980536
         ],
         "yaxis": "y",
         "type": "scatter"
        },
        {
         "hovertemplate": "<b>%{hovertext}</b><br><br>Cat=OVER50_M<br>Pos=%{x}<br>Pettorale=%{y}<extra></extra>",
         "hovertext": [
          "GIGLIO MATTEO",
          "APRILE MARCO",
          "RIVA PAOLO",
          "GORRAZ REMO",
          "MAGUET ROBERTO",
          "PERACINO ALBERTO",
          "PERRUQUET RUDY",
          "ARCANI DAVIDE",
          "VERONESE LUCIANO",
          "EMPEREUR DIEGO",
          "MORICHINI CARLO",
          "GUIZZETTI ADRIANO",
          "CUNEAZ SANDRO",
          "ZEMOZ ANDREA",
          "RIBAN PIERPAOLO",
          "NICOLUSSI IVAN",
          "GODIOZ WLADJMIR",
          "BUSA FABRIZIO",
          "CAMANDONA MARCO",
          "VAGLIASINDI MARCO SALVATORE",
          "GASPARELLO GIANCARLO",
          "ZHARA BUDA FULVIO",
          "PIFFARI MAURIZIO",
          "CAVALLO MARIOVALERIO",
          "LEBOLE ANTONIO",
          "CURELLI ENNIO",
          "BRIOSCHI ETTORE GIANNI",
          "DIEMOZ FERRUCCIO",
          "HERIN MICHELE MARIA",
          "COPPERO MAURIZIO",
          "SASSO DIEGO",
          "MOTTINI MICHEL",
          "SAPINET ANDREA",
          "FERREA MARCO",
          "TERZI DI BERGAMO GIANCARLO",
          "BOBBA PAOLO",
          "CHAUSSOD ORLANDO",
          "BORRIONE ROBERTO",
          "TOUSCOZ DAVIDE",
          "BERRUTI GIACOBBE",
          "TREVISAN EMILIO",
          "BIANCHI MIRKO",
          "BET MASSIMILIANO",
          "REMONDAZ PIERO",
          "FISANOTTI CLAUDIO GIOVANNI",
          "BOVIO STEFANO"
         ],
         "legendgroup": "OVER50_M",
         "marker": {
          "color": "#19d3f3",
          "symbol": "circle"
         },
         "mode": "markers",
         "name": "OVER50_M",
         "orientation": "v",
         "showlegend": true,
         "x": [
          25,
          28,
          31,
          32,
          35,
          42,
          45,
          48,
          59,
          85,
          86,
          89,
          90,
          102,
          107,
          108,
          119,
          125,
          130,
          134,
          139,
          151,
          152,
          161,
          163,
          169,
          170,
          177,
          178,
          185,
          192,
          210,
          212,
          214,
          217,
          218,
          220,
          222,
          229,
          235,
          236,
          241,
          242,
          244,
          247,
          252
         ],
         "xaxis": "x",
         "y": [
          15,
          157,
          22,
          34,
          28,
          105,
          92,
          104,
          145,
          154,
          130,
          141,
          153,
          152,
          127,
          178,
          217,
          119,
          151,
          204,
          200,
          262,
          201,
          238,
          291,
          292,
          171,
          275,
          181,
          245,
          46,
          252,
          267,
          230,
          244,
          240,
          298,
          296,
          254,
          281,
          269,
          266,
          295,
          247,
          287,
          285
         ],
         "yaxis": "y",
         "type": "scatter"
        },
        {
         "hovertemplate": "<b>LOWESS trendline</b><br><br>Cat=OVER50_M<br>Pos=%{x}<br>Pettorale=%{y} <b>(trend)</b><extra></extra>",
         "legendgroup": "OVER50_M",
         "marker": {
          "color": "#19d3f3",
          "symbol": "circle"
         },
         "mode": "lines",
         "name": "OVER50_M",
         "showlegend": false,
         "x": [
          25,
          28,
          31,
          32,
          35,
          42,
          45,
          48,
          59,
          85,
          86,
          89,
          90,
          102,
          107,
          108,
          119,
          125,
          130,
          134,
          139,
          151,
          152,
          161,
          163,
          169,
          170,
          177,
          178,
          185,
          192,
          210,
          212,
          214,
          217,
          218,
          220,
          222,
          229,
          235,
          236,
          241,
          242,
          244,
          247,
          252
         ],
         "xaxis": "x",
         "y": [
          46.497761051361586,
          50.92833037288286,
          55.33604439415455,
          56.80018594155412,
          61.177780719846396,
          71.31801825352093,
          75.64031595180482,
          79.95312654918702,
          95.72279529583989,
          133.14278438386702,
          134.59761589941994,
          138.97526669725445,
          140.4390405010498,
          157.78757870246392,
          163.95807495857534,
          165.16066005097088,
          177.91303252450135,
          184.50134263224842,
          189.990329878664,
          194.41006545222163,
          199.93911082079003,
          212.26172551922167,
          213.36993857570272,
          221.6483317983967,
          223.59004301664615,
          228.97408184030098,
          230.03154033196074,
          236.24464402214255,
          237.06308600133087,
          243.1292373549476,
          247.1888404579803,
          257.00141588166025,
          258.0856688106833,
          259.17025834197557,
          260.7985091640752,
          261.3418997150428,
          262.4301912822669,
          263.5211738165075,
          267.3631469810204,
          270.6837365475977,
          271.239654475142,
          274.02962861430274,
          274.5896275191932,
          275.71154979820784,
          277.39900861860104,
          280.2241976420517
         ],
         "yaxis": "y",
         "type": "scatter"
        },
        {
         "hovertemplate": "<b>%{hovertext}</b><br><br>Cat=OVER35_F<br>Pos=%{x}<br>Pettorale=%{y}<extra></extra>",
         "hovertext": [
          "VICQUÉRY CHRISTINE",
          "CRAUSAZ CHRISTINE",
          "CHAMPVILLAIR ELENA",
          "PONT MARCELLA",
          "PETITJACQUES SANDY",
          "LALE LACROIX ERIKA",
          "MARCHI DANIELA",
          "DALBARD ALINE",
          "LALE DEMOZ SUSY",
          "TIRASSA CAROLA",
          "MARIAN CARMEN-DIANA"
         ],
         "legendgroup": "OVER35_F",
         "marker": {
          "color": "#B6E880",
          "symbol": "circle"
         },
         "mode": "markers",
         "name": "OVER35_F",
         "orientation": "v",
         "showlegend": true,
         "x": [
          71,
          72,
          157,
          173,
          188,
          189,
          196,
          202,
          233,
          251,
          254
         ],
         "xaxis": "x",
         "y": [
          39,
          43,
          166,
          183,
          288,
          260,
          243,
          277,
          265,
          290,
          273
         ],
         "yaxis": "y",
         "type": "scatter"
        },
        {
         "hovertemplate": "<b>LOWESS trendline</b><br><br>Cat=OVER35_F<br>Pos=%{x}<br>Pettorale=%{y} <b>(trend)</b><extra></extra>",
         "legendgroup": "OVER35_F",
         "marker": {
          "color": "#B6E880",
          "symbol": "circle"
         },
         "mode": "lines",
         "name": "OVER35_F",
         "showlegend": false,
         "x": [
          71,
          72,
          157,
          173,
          188,
          189,
          196,
          202,
          233,
          251,
          254
         ],
         "xaxis": "x",
         "y": [
          40.251869169283786,
          41.70877549128607,
          160.87360930421607,
          202.68646967788354,
          241.05890339563783,
          243.6906386262335,
          262.50428915160313,
          261.3856359209891,
          272.54844509434474,
          278.5903151381268,
          279.8432245131512
         ],
         "yaxis": "y",
         "type": "scatter"
        },
        {
         "hovertemplate": "<b>%{hovertext}</b><br><br>Cat=OVER60_M<br>Pos=%{x}<br>Pettorale=%{y}<extra></extra>",
         "hovertext": [
          "BUVET MAURO",
          "VIVALDO DAVIDE",
          "MAINETTI ALBERTO",
          "ROCCHI DELFO",
          "VOLPIANO CLAUDIO",
          "NIGRA GIORGIO",
          "COLOMBO RICCARDO",
          "NANIA MICHELE",
          "PACCHIODI MAURO",
          "FORTUNATO MASSIMO",
          "CECCARELLI MARCO",
          "CHAMOIS ALESSANDRO",
          "TAJANA LUCA",
          "FUSANI GIANPIERO"
         ],
         "legendgroup": "OVER60_M",
         "marker": {
          "color": "#FF97FF",
          "symbol": "circle"
         },
         "mode": "markers",
         "name": "OVER60_M",
         "orientation": "v",
         "showlegend": true,
         "x": [
          79,
          150,
          168,
          171,
          176,
          182,
          184,
          203,
          205,
          219,
          223,
          226,
          228,
          255
         ],
         "xaxis": "x",
         "y": [
          140,
          120,
          194,
          289,
          253,
          234,
          259,
          236,
          293,
          268,
          284,
          237,
          297,
          299
         ],
         "yaxis": "y",
         "type": "scatter"
        },
        {
         "hovertemplate": "<b>LOWESS trendline</b><br><br>Cat=OVER60_M<br>Pos=%{x}<br>Pettorale=%{y} <b>(trend)</b><extra></extra>",
         "legendgroup": "OVER60_M",
         "marker": {
          "color": "#FF97FF",
          "symbol": "circle"
         },
         "mode": "lines",
         "name": "OVER60_M",
         "showlegend": false,
         "x": [
          79,
          150,
          168,
          171,
          176,
          182,
          184,
          203,
          205,
          219,
          223,
          226,
          228,
          255
         ],
         "xaxis": "x",
         "y": [
          131.9602868583038,
          134.59200622400036,
          196.24299877591665,
          205.8797109412183,
          221.70438917534136,
          239.24628440128672,
          243.1260489588746,
          262.0765193384622,
          263.03668812793455,
          271.90439597388615,
          274.69285088332407,
          276.92847652842426,
          278.40226669053163,
          298.3777394756843
         ],
         "yaxis": "y",
         "type": "scatter"
        },
        {
         "hovertemplate": "<b>%{hovertext}</b><br><br>Cat=OVER50_F<br>Pos=%{x}<br>Pettorale=%{y}<extra></extra>",
         "hovertext": [
          "TEPPEX FEDERICA",
          "BRUNA VALERIA",
          "TITOLO CLAUDIA",
          "MUTTI PATRIZIA",
          "CANEPA FRANCESCA",
          "MARCONATO GIUSEPPINA",
          "FERRANDOZ MARINA",
          "BONATO FLAVIA",
          "GHIRARDI MILENA",
          "DELFINO CATERINA",
          "CASTAGNA FRANCESCA",
          "BOSONIN ENRICA",
          "SIRIGU DANIELA",
          "RAISIN CHANTAL",
          "CANAVESE CLAUDIA EMMA",
          "COMELLO CLAUDIA",
          "DEMARCHI CRISTINA"
         ],
         "legendgroup": "OVER50_F",
         "marker": {
          "color": "#FECB52",
          "symbol": "circle"
         },
         "mode": "markers",
         "name": "OVER50_F",
         "orientation": "v",
         "showlegend": true,
         "x": [
          116,
          118,
          127,
          140,
          145,
          160,
          162,
          190,
          201,
          207,
          230,
          237,
          239,
          243,
          245,
          249,
          253
         ],
         "xaxis": "x",
         "y": [
          111,
          158,
          190,
          202,
          45,
          300,
          136,
          256,
          126,
          272,
          47,
          235,
          274,
          276,
          286,
          282,
          263
         ],
         "yaxis": "y",
         "type": "scatter"
        },
        {
         "hovertemplate": "<b>LOWESS trendline</b><br><br>Cat=OVER50_F<br>Pos=%{x}<br>Pettorale=%{y} <b>(trend)</b><extra></extra>",
         "legendgroup": "OVER50_F",
         "marker": {
          "color": "#FECB52",
          "symbol": "circle"
         },
         "mode": "lines",
         "name": "OVER50_F",
         "showlegend": false,
         "x": [
          116,
          118,
          127,
          140,
          145,
          160,
          162,
          190,
          201,
          207,
          230,
          237,
          239,
          243,
          245,
          249,
          253
         ],
         "xaxis": "x",
         "y": [
          145.84379708294838,
          147.95435044331938,
          157.4122510966457,
          171.12680428114302,
          176.40901079249966,
          191.82678623733509,
          193.80137279781215,
          220.66242103164396,
          231.25975076604493,
          236.41043174429768,
          256.6700003977143,
          263.04434131157456,
          264.8763531718992,
          268.56186965772525,
          270.41717801917974,
          274.1516262474587,
          277.90777794896377
         ],
         "yaxis": "y",
         "type": "scatter"
        },
        {
         "hovertemplate": "<b>%{hovertext}</b><br><br>Cat=UNDER20_F<br>Pos=%{x}<br>Pettorale=%{y}<extra></extra>",
         "hovertext": [
          "MANIEZZO ALICE",
          "TIZZANI ELISABETTA",
          "GARETTA FRANCESCA",
          "ANTONIN SILVIA"
         ],
         "legendgroup": "UNDER20_F",
         "marker": {
          "color": "#636efa",
          "symbol": "circle"
         },
         "mode": "markers",
         "name": "UNDER20_F",
         "orientation": "v",
         "showlegend": true,
         "x": [
          117,
          181,
          231,
          240
         ],
         "xaxis": "x",
         "y": [
          42,
          121,
          227,
          187
         ],
         "yaxis": "y",
         "type": "scatter"
        },
        {
         "hovertemplate": "<b>LOWESS trendline</b><br><br>Cat=UNDER20_F<br>Pos=%{x}<br>Pettorale=%{y} <b>(trend)</b><extra></extra>",
         "legendgroup": "UNDER20_F",
         "marker": {
          "color": "#636efa",
          "symbol": "circle"
         },
         "mode": "lines",
         "name": "UNDER20_F",
         "showlegend": false,
         "x": [
          117,
          181,
          231,
          240
         ],
         "xaxis": "x",
         "y": [
          42.0,
          121.0,
          227.0,
          187.0
         ],
         "yaxis": "y",
         "type": "scatter"
        },
        {
         "hovertemplate": "<b>%{hovertext}</b><br><br>Cat=UNDER16_F<br>Pos=%{x}<br>Pettorale=%{y}<extra></extra>",
         "hovertext": [
          "FRAMARIN GIULIA"
         ],
         "legendgroup": "UNDER16_F",
         "marker": {
          "color": "#EF553B",
          "symbol": "circle"
         },
         "mode": "markers",
         "name": "UNDER16_F",
         "orientation": "v",
         "showlegend": true,
         "x": [
          153
         ],
         "xaxis": "x",
         "y": [
          167
         ],
         "yaxis": "y",
         "type": "scatter"
        },
        {
         "hovertemplate": "Cat=UNDER16_F<extra></extra>",
         "legendgroup": "UNDER16_F",
         "marker": {
          "color": "#EF553B",
          "symbol": "circle"
         },
         "mode": "lines",
         "name": "UNDER16_F",
         "showlegend": false,
         "xaxis": "x",
         "yaxis": "y",
         "type": "scatter"
        },
        {
         "hovertemplate": "<b>%{hovertext}</b><br><br>Cat=OVER60_F<br>Pos=%{x}<br>Pettorale=%{y}<extra></extra>",
         "hovertext": [
          "VERGURA CARMELA",
          "APÈRE NICOLETTA"
         ],
         "legendgroup": "OVER60_F",
         "marker": {
          "color": "#00cc96",
          "symbol": "circle"
         },
         "mode": "markers",
         "name": "OVER60_F",
         "orientation": "v",
         "showlegend": true,
         "x": [
          213,
          232
         ],
         "xaxis": "x",
         "y": [
          221,
          280
         ],
         "yaxis": "y",
         "type": "scatter"
        },
        {
         "hovertemplate": "<b>LOWESS trendline</b><br><br>Cat=OVER60_F<br>Pos=%{x}<br>Pettorale=%{y} <b>(trend)</b><extra></extra>",
         "legendgroup": "OVER60_F",
         "marker": {
          "color": "#00cc96",
          "symbol": "circle"
         },
         "mode": "lines",
         "name": "OVER60_F",
         "showlegend": false,
         "x": [
          213,
          232
         ],
         "xaxis": "x",
         "y": [
          221.0,
          280.0
         ],
         "yaxis": "y",
         "type": "scatter"
        }
       ],
       "layout": {
        "template": {
         "data": {
          "histogram2dcontour": [
           {
            "type": "histogram2dcontour",
            "colorbar": {
             "outlinewidth": 0,
             "ticks": ""
            },
            "colorscale": [
             [
              0.0,
              "#0d0887"
             ],
             [
              0.1111111111111111,
              "#46039f"
             ],
             [
              0.2222222222222222,
              "#7201a8"
             ],
             [
              0.3333333333333333,
              "#9c179e"
             ],
             [
              0.4444444444444444,
              "#bd3786"
             ],
             [
              0.5555555555555556,
              "#d8576b"
             ],
             [
              0.6666666666666666,
              "#ed7953"
             ],
             [
              0.7777777777777778,
              "#fb9f3a"
             ],
             [
              0.8888888888888888,
              "#fdca26"
             ],
             [
              1.0,
              "#f0f921"
             ]
            ]
           }
          ],
          "choropleth": [
           {
            "type": "choropleth",
            "colorbar": {
             "outlinewidth": 0,
             "ticks": ""
            }
           }
          ],
          "histogram2d": [
           {
            "type": "histogram2d",
            "colorbar": {
             "outlinewidth": 0,
             "ticks": ""
            },
            "colorscale": [
             [
              0.0,
              "#0d0887"
             ],
             [
              0.1111111111111111,
              "#46039f"
             ],
             [
              0.2222222222222222,
              "#7201a8"
             ],
             [
              0.3333333333333333,
              "#9c179e"
             ],
             [
              0.4444444444444444,
              "#bd3786"
             ],
             [
              0.5555555555555556,
              "#d8576b"
             ],
             [
              0.6666666666666666,
              "#ed7953"
             ],
             [
              0.7777777777777778,
              "#fb9f3a"
             ],
             [
              0.8888888888888888,
              "#fdca26"
             ],
             [
              1.0,
              "#f0f921"
             ]
            ]
           }
          ],
          "heatmap": [
           {
            "type": "heatmap",
            "colorbar": {
             "outlinewidth": 0,
             "ticks": ""
            },
            "colorscale": [
             [
              0.0,
              "#0d0887"
             ],
             [
              0.1111111111111111,
              "#46039f"
             ],
             [
              0.2222222222222222,
              "#7201a8"
             ],
             [
              0.3333333333333333,
              "#9c179e"
             ],
             [
              0.4444444444444444,
              "#bd3786"
             ],
             [
              0.5555555555555556,
              "#d8576b"
             ],
             [
              0.6666666666666666,
              "#ed7953"
             ],
             [
              0.7777777777777778,
              "#fb9f3a"
             ],
             [
              0.8888888888888888,
              "#fdca26"
             ],
             [
              1.0,
              "#f0f921"
             ]
            ]
           }
          ],
          "heatmapgl": [
           {
            "type": "heatmapgl",
            "colorbar": {
             "outlinewidth": 0,
             "ticks": ""
            },
            "colorscale": [
             [
              0.0,
              "#0d0887"
             ],
             [
              0.1111111111111111,
              "#46039f"
             ],
             [
              0.2222222222222222,
              "#7201a8"
             ],
             [
              0.3333333333333333,
              "#9c179e"
             ],
             [
              0.4444444444444444,
              "#bd3786"
             ],
             [
              0.5555555555555556,
              "#d8576b"
             ],
             [
              0.6666666666666666,
              "#ed7953"
             ],
             [
              0.7777777777777778,
              "#fb9f3a"
             ],
             [
              0.8888888888888888,
              "#fdca26"
             ],
             [
              1.0,
              "#f0f921"
             ]
            ]
           }
          ],
          "contourcarpet": [
           {
            "type": "contourcarpet",
            "colorbar": {
             "outlinewidth": 0,
             "ticks": ""
            }
           }
          ],
          "contour": [
           {
            "type": "contour",
            "colorbar": {
             "outlinewidth": 0,
             "ticks": ""
            },
            "colorscale": [
             [
              0.0,
              "#0d0887"
             ],
             [
              0.1111111111111111,
              "#46039f"
             ],
             [
              0.2222222222222222,
              "#7201a8"
             ],
             [
              0.3333333333333333,
              "#9c179e"
             ],
             [
              0.4444444444444444,
              "#bd3786"
             ],
             [
              0.5555555555555556,
              "#d8576b"
             ],
             [
              0.6666666666666666,
              "#ed7953"
             ],
             [
              0.7777777777777778,
              "#fb9f3a"
             ],
             [
              0.8888888888888888,
              "#fdca26"
             ],
             [
              1.0,
              "#f0f921"
             ]
            ]
           }
          ],
          "surface": [
           {
            "type": "surface",
            "colorbar": {
             "outlinewidth": 0,
             "ticks": ""
            },
            "colorscale": [
             [
              0.0,
              "#0d0887"
             ],
             [
              0.1111111111111111,
              "#46039f"
             ],
             [
              0.2222222222222222,
              "#7201a8"
             ],
             [
              0.3333333333333333,
              "#9c179e"
             ],
             [
              0.4444444444444444,
              "#bd3786"
             ],
             [
              0.5555555555555556,
              "#d8576b"
             ],
             [
              0.6666666666666666,
              "#ed7953"
             ],
             [
              0.7777777777777778,
              "#fb9f3a"
             ],
             [
              0.8888888888888888,
              "#fdca26"
             ],
             [
              1.0,
              "#f0f921"
             ]
            ]
           }
          ],
          "mesh3d": [
           {
            "type": "mesh3d",
            "colorbar": {
             "outlinewidth": 0,
             "ticks": ""
            }
           }
          ],
          "scatter": [
           {
            "marker": {
             "line": {
              "color": "#283442"
             }
            },
            "type": "scatter"
           }
          ],
          "parcoords": [
           {
            "type": "parcoords",
            "line": {
             "colorbar": {
              "outlinewidth": 0,
              "ticks": ""
             }
            }
           }
          ],
          "scatterpolargl": [
           {
            "type": "scatterpolargl",
            "marker": {
             "colorbar": {
              "outlinewidth": 0,
              "ticks": ""
             }
            }
           }
          ],
          "bar": [
           {
            "error_x": {
             "color": "#f2f5fa"
            },
            "error_y": {
             "color": "#f2f5fa"
            },
            "marker": {
             "line": {
              "color": "rgb(17,17,17)",
              "width": 0.5
             },
             "pattern": {
              "fillmode": "overlay",
              "size": 10,
              "solidity": 0.2
             }
            },
            "type": "bar"
           }
          ],
          "scattergeo": [
           {
            "type": "scattergeo",
            "marker": {
             "colorbar": {
              "outlinewidth": 0,
              "ticks": ""
             }
            }
           }
          ],
          "scatterpolar": [
           {
            "type": "scatterpolar",
            "marker": {
             "colorbar": {
              "outlinewidth": 0,
              "ticks": ""
             }
            }
           }
          ],
          "histogram": [
           {
            "marker": {
             "pattern": {
              "fillmode": "overlay",
              "size": 10,
              "solidity": 0.2
             }
            },
            "type": "histogram"
           }
          ],
          "scattergl": [
           {
            "marker": {
             "line": {
              "color": "#283442"
             }
            },
            "type": "scattergl"
           }
          ],
          "scatter3d": [
           {
            "type": "scatter3d",
            "line": {
             "colorbar": {
              "outlinewidth": 0,
              "ticks": ""
             }
            },
            "marker": {
             "colorbar": {
              "outlinewidth": 0,
              "ticks": ""
             }
            }
           }
          ],
          "scattermapbox": [
           {
            "type": "scattermapbox",
            "marker": {
             "colorbar": {
              "outlinewidth": 0,
              "ticks": ""
             }
            }
           }
          ],
          "scatterternary": [
           {
            "type": "scatterternary",
            "marker": {
             "colorbar": {
              "outlinewidth": 0,
              "ticks": ""
             }
            }
           }
          ],
          "scattercarpet": [
           {
            "type": "scattercarpet",
            "marker": {
             "colorbar": {
              "outlinewidth": 0,
              "ticks": ""
             }
            }
           }
          ],
          "carpet": [
           {
            "aaxis": {
             "endlinecolor": "#A2B1C6",
             "gridcolor": "#506784",
             "linecolor": "#506784",
             "minorgridcolor": "#506784",
             "startlinecolor": "#A2B1C6"
            },
            "baxis": {
             "endlinecolor": "#A2B1C6",
             "gridcolor": "#506784",
             "linecolor": "#506784",
             "minorgridcolor": "#506784",
             "startlinecolor": "#A2B1C6"
            },
            "type": "carpet"
           }
          ],
          "table": [
           {
            "cells": {
             "fill": {
              "color": "#506784"
             },
             "line": {
              "color": "rgb(17,17,17)"
             }
            },
            "header": {
             "fill": {
              "color": "#2a3f5f"
             },
             "line": {
              "color": "rgb(17,17,17)"
             }
            },
            "type": "table"
           }
          ],
          "barpolar": [
           {
            "marker": {
             "line": {
              "color": "rgb(17,17,17)",
              "width": 0.5
             },
             "pattern": {
              "fillmode": "overlay",
              "size": 10,
              "solidity": 0.2
             }
            },
            "type": "barpolar"
           }
          ],
          "pie": [
           {
            "automargin": true,
            "type": "pie"
           }
          ]
         },
         "layout": {
          "autotypenumbers": "strict",
          "colorway": [
           "#636efa",
           "#EF553B",
           "#00cc96",
           "#ab63fa",
           "#FFA15A",
           "#19d3f3",
           "#FF6692",
           "#B6E880",
           "#FF97FF",
           "#FECB52"
          ],
          "font": {
           "color": "#f2f5fa"
          },
          "hovermode": "closest",
          "hoverlabel": {
           "align": "left"
          },
          "paper_bgcolor": "rgb(17,17,17)",
          "plot_bgcolor": "rgb(17,17,17)",
          "polar": {
           "bgcolor": "rgb(17,17,17)",
           "angularaxis": {
            "gridcolor": "#506784",
            "linecolor": "#506784",
            "ticks": ""
           },
           "radialaxis": {
            "gridcolor": "#506784",
            "linecolor": "#506784",
            "ticks": ""
           }
          },
          "ternary": {
           "bgcolor": "rgb(17,17,17)",
           "aaxis": {
            "gridcolor": "#506784",
            "linecolor": "#506784",
            "ticks": ""
           },
           "baxis": {
            "gridcolor": "#506784",
            "linecolor": "#506784",
            "ticks": ""
           },
           "caxis": {
            "gridcolor": "#506784",
            "linecolor": "#506784",
            "ticks": ""
           }
          },
          "coloraxis": {
           "colorbar": {
            "outlinewidth": 0,
            "ticks": ""
           }
          },
          "colorscale": {
           "sequential": [
            [
             0.0,
             "#0d0887"
            ],
            [
             0.1111111111111111,
             "#46039f"
            ],
            [
             0.2222222222222222,
             "#7201a8"
            ],
            [
             0.3333333333333333,
             "#9c179e"
            ],
            [
             0.4444444444444444,
             "#bd3786"
            ],
            [
             0.5555555555555556,
             "#d8576b"
            ],
            [
             0.6666666666666666,
             "#ed7953"
            ],
            [
             0.7777777777777778,
             "#fb9f3a"
            ],
            [
             0.8888888888888888,
             "#fdca26"
            ],
            [
             1.0,
             "#f0f921"
            ]
           ],
           "sequentialminus": [
            [
             0.0,
             "#0d0887"
            ],
            [
             0.1111111111111111,
             "#46039f"
            ],
            [
             0.2222222222222222,
             "#7201a8"
            ],
            [
             0.3333333333333333,
             "#9c179e"
            ],
            [
             0.4444444444444444,
             "#bd3786"
            ],
            [
             0.5555555555555556,
             "#d8576b"
            ],
            [
             0.6666666666666666,
             "#ed7953"
            ],
            [
             0.7777777777777778,
             "#fb9f3a"
            ],
            [
             0.8888888888888888,
             "#fdca26"
            ],
            [
             1.0,
             "#f0f921"
            ]
           ],
           "diverging": [
            [
             0,
             "#8e0152"
            ],
            [
             0.1,
             "#c51b7d"
            ],
            [
             0.2,
             "#de77ae"
            ],
            [
             0.3,
             "#f1b6da"
            ],
            [
             0.4,
             "#fde0ef"
            ],
            [
             0.5,
             "#f7f7f7"
            ],
            [
             0.6,
             "#e6f5d0"
            ],
            [
             0.7,
             "#b8e186"
            ],
            [
             0.8,
             "#7fbc41"
            ],
            [
             0.9,
             "#4d9221"
            ],
            [
             1,
             "#276419"
            ]
           ]
          },
          "xaxis": {
           "gridcolor": "#283442",
           "linecolor": "#506784",
           "ticks": "",
           "title": {
            "standoff": 15
           },
           "zerolinecolor": "#283442",
           "automargin": true,
           "zerolinewidth": 2
          },
          "yaxis": {
           "gridcolor": "#283442",
           "linecolor": "#506784",
           "ticks": "",
           "title": {
            "standoff": 15
           },
           "zerolinecolor": "#283442",
           "automargin": true,
           "zerolinewidth": 2
          },
          "scene": {
           "xaxis": {
            "backgroundcolor": "rgb(17,17,17)",
            "gridcolor": "#506784",
            "linecolor": "#506784",
            "showbackground": true,
            "ticks": "",
            "zerolinecolor": "#C8D4E3",
            "gridwidth": 2
           },
           "yaxis": {
            "backgroundcolor": "rgb(17,17,17)",
            "gridcolor": "#506784",
            "linecolor": "#506784",
            "showbackground": true,
            "ticks": "",
            "zerolinecolor": "#C8D4E3",
            "gridwidth": 2
           },
           "zaxis": {
            "backgroundcolor": "rgb(17,17,17)",
            "gridcolor": "#506784",
            "linecolor": "#506784",
            "showbackground": true,
            "ticks": "",
            "zerolinecolor": "#C8D4E3",
            "gridwidth": 2
           }
          },
          "shapedefaults": {
           "line": {
            "color": "#f2f5fa"
           }
          },
          "annotationdefaults": {
           "arrowcolor": "#f2f5fa",
           "arrowhead": 0,
           "arrowwidth": 1
          },
          "geo": {
           "bgcolor": "rgb(17,17,17)",
           "landcolor": "rgb(17,17,17)",
           "subunitcolor": "#506784",
           "showland": true,
           "showlakes": true,
           "lakecolor": "rgb(17,17,17)"
          },
          "title": {
           "x": 0.05
          },
          "updatemenudefaults": {
           "bgcolor": "#506784",
           "borderwidth": 0
          },
          "sliderdefaults": {
           "bgcolor": "#C8D4E3",
           "borderwidth": 1,
           "bordercolor": "rgb(17,17,17)",
           "tickwidth": 0
          },
          "mapbox": {
           "style": "dark"
          }
         }
        },
        "xaxis": {
         "anchor": "y",
         "domain": [
          0.0,
          1.0
         ],
         "title": {
          "text": "Pos"
         }
        },
        "yaxis": {
         "anchor": "x",
         "domain": [
          0.0,
          1.0
         ],
         "title": {
          "text": "Pettorale"
         }
        },
        "legend": {
         "title": {
          "text": "Cat"
         },
         "tracegroupgap": 0
        },
        "margin": {
         "t": 60
        }
       },
       "config": {
        "plotlyServerURL": "https://plot.ly"
       }
      },
      "text/html": [
       "<div>                            <div id=\"5a002d0c-d107-4ca2-b5ad-61ff9483dd5e\" class=\"plotly-graph-div\" style=\"height:525px; width:100%;\"></div>            <script type=\"text/javascript\">                require([\"plotly\"], function(Plotly) {                    window.PLOTLYENV=window.PLOTLYENV || {};                                    if (document.getElementById(\"5a002d0c-d107-4ca2-b5ad-61ff9483dd5e\")) {                    Plotly.newPlot(                        \"5a002d0c-d107-4ca2-b5ad-61ff9483dd5e\",                        [{\"hovertemplate\":\"\\u003cb\\u003e%{hovertext}\\u003c\\u002fb\\u003e\\u003cbr\\u003e\\u003cbr\\u003eCat=OVER20_M\\u003cbr\\u003ePos=%{x}\\u003cbr\\u003ePettorale=%{y}\\u003cextra\\u003e\\u003c\\u002fextra\\u003e\",\"hovertext\":[\"AYMONOD HENRI\",\"BONINO FEDERICO\",\"CUAZ WLADIMIR\",\"VOTA STEFANO\",\"SILETTO MATTEO\",\"VERRAZ YANNICK\",\"DONZEL DENIS\",\"DEANOZ CLEMENT\",\"JANIN JOEL\",\"CHAMPRETAVY FABIEN\",\"CHRISTILLE CEDRIC\",\"VACCHIERI MARCO\",\"BIANQUIN MATTHIEU\",\"GONTIER ALBERTO\",\"NOUSSAN ALEX\",\"PEANI GIANLUCA\",\"MARCHIANDO MATTEO\",\"OJETTI FABIO ROSILIO\",\"AIELLO MICHELE\",\"JOLY MATTIA\",\"PANGALLO MATTEO\",\"BUSCHINO PAOLO\",\"BONETTA STEFANO\",\"GRIVEL THIERRY\",\"CRAFA ALESSIO\",\"COURTHOUD MATHIEU\",\"GNEMMI LUCA\",\"CHENAL MATTEO\",\"PETITJACQUES MIGUEL\",\"PEZZOLI ALESSANDRO\",\"SGAMMEGLIA ROBERT\",\"QUENDOZ CHRISTIAN\",\"ZORZI NAZARENO UMBERTO\",\"OBERT JACQUES\",\"CASTAGNOLI SIMONE\",\"VENTURA SIMONE\",\"VAUTERIN RAPHAEL\",\"REVERDITO FABIO\",\"FALCIONI FABIO\",\"GRITTI MATTEO\",\"COM\\u00c9 ANDR\\u00c9\",\"MILLIERY RICHARD\",\"PESSION DANIELE\",\"ARCO FABIO\",\"COLLIARD OMAR\",\"ROVATI MATTEO\",\"MAZZA ANTONIO\",\"PIEROPAN FEDERICO\",\"CLEMENTE PISATI CRISTIAN\",\"PERRIER LAURENT\",\"MANELLA LAURENT\",\"SILVANI LAURENT\",\"CHALLANCIN MICHEL\",\"ADAM FLORIN\",\"LINTY ETIENNE\",\"VILLOSIO MATTEO\",\"STELLA LORENZO\",\"TREVISAN MATTEO\"],\"legendgroup\":\"OVER20_M\",\"marker\":{\"color\":\"#636efa\",\"symbol\":\"circle\"},\"mode\":\"markers\",\"name\":\"OVER20_M\",\"orientation\":\"v\",\"showlegend\":true,\"x\":[1,2,5,6,8,9,13,14,15,20,23,26,27,29,34,37,39,40,47,49,52,53,55,57,62,63,64,65,66,74,75,80,82,83,87,88,94,97,101,103,105,111,112,114,129,135,137,144,147,148,167,174,180,195,199,215,224,248],\"xaxis\":\"x\",\"y\":[1,3,6,27,5,8,14,13,16,12,10,87,32,17,94,106,122,164,159,100,162,96,146,18,93,11,132,30,133,118,81,29,89,113,191,135,98,206,149,142,82,139,99,163,101,160,205,155,224,207,226,248,165,186,212,223,169,270],\"yaxis\":\"y\",\"type\":\"scatter\"},{\"hovertemplate\":\"\\u003cb\\u003eLOWESS trendline\\u003c\\u002fb\\u003e\\u003cbr\\u003e\\u003cbr\\u003eCat=OVER20_M\\u003cbr\\u003ePos=%{x}\\u003cbr\\u003ePettorale=%{y} \\u003cb\\u003e(trend)\\u003c\\u002fb\\u003e\\u003cextra\\u003e\\u003c\\u002fextra\\u003e\",\"legendgroup\":\"OVER20_M\",\"marker\":{\"color\":\"#636efa\",\"symbol\":\"circle\"},\"mode\":\"lines\",\"name\":\"OVER20_M\",\"showlegend\":false,\"x\":[1,2,5,6,8,9,13,14,15,20,23,26,27,29,34,37,39,40,47,49,52,53,55,57,62,63,64,65,66,74,75,80,82,83,87,88,94,97,101,103,105,111,112,114,129,135,137,144,147,148,167,174,180,195,199,215,224,248],\"xaxis\":\"x\",\"y\":[0.23989905695634553,2.2681876709382824,8.317528038152147,10.321032230627075,14.306439255363227,16.28747686958046,24.124173933829546,26.05946381304492,27.98441473922912,37.44367810438584,42.97808612667454,48.40287372397189,50.187248102554825,53.72132179897813,62.3792013098968,67.49703243209754,70.90908844530541,72.62425083566553,85.21856479298361,89.06955303985823,92.07520619559034,93.40131651024173,95.97129742541028,98.06584552591191,103.2754859148373,104.40282259294672,105.2655109352577,105.9565859905678,106.63241868906861,111.6358190086976,112.23572174518831,114.78196341357477,115.83115629372763,116.2373834824952,118.26181287586954,118.82505549970897,124.29224524496315,127.53036775551061,131.65521092435065,133.49393737487256,135.60004531736888,142.8218063378422,144.1078635936154,146.62063177934695,162.32113354062253,167.46571687458095,169.1880123187775,173.70427290897464,175.45852993688493,176.0382796824597,188.48983846599526,193.62669603598195,198.14271511850046,209.41971990052343,212.37577711860263,223.8945117101545,230.1552078699156,246.28295379876343],\"yaxis\":\"y\",\"type\":\"scatter\"},{\"hovertemplate\":\"\\u003cb\\u003e%{hovertext}\\u003c\\u002fb\\u003e\\u003cbr\\u003e\\u003cbr\\u003eCat=OVER35_M\\u003cbr\\u003ePos=%{x}\\u003cbr\\u003ePettorale=%{y}\\u003cextra\\u003e\\u003c\\u002fextra\\u003e\",\"hovertext\":[\"BRUNOD DENNIS\",\"BLANC FABRIZIO\",\"VALLET RUDY\",\"CUAZ FABRIZIO\",\"VUILLERMOZ NADIR\",\"MONTALTO CARLO FEDERICO\",\"PESSION NICOLA\",\"DUCRET ALEX\",\"SCIEGHI MATTEO\",\"CODA CASEIA DANIELE\",\"TEPPA GUIDO\",\"ARTAZ TIZIANO\",\"PARNISARI RUBEN DARIO\",\"PHILIPPOT MORENO\",\"SPANO' LUCA\",\"FUSO PAOLO\",\"DESANA FABIO FRANCESCO\",\"CAVALLO MARCO\",\"IMPIERI DAVIDE\",\"DEMURO MASSIMO\",\"RIZZATO NICOL\\u00d2\",\"PETEY PATRICK\",\"VERRAZ DAVIDE\",\"PETEY ROBERTO\",\"RAPELLI ROBERTO\",\"VITTAZ DEMIS\",\"BREUV\\u00c9 MICHEL\",\"FAVRE JEAN CLAUDE\",\"POULIN S\\u00c9BASTIEN\",\"CAPPELLARI MISHA RIZIERI\",\"MICHELETTI DAVIDE\",\"BACCA RICCARDO\",\"FOY MANUEL\",\"BELTRAMELLI ANDREA\",\"ASCOLI ALESSANDRO\",\"IACHETTI GIUSEPPE\",\"ZANNI CRISTIAN\",\"MERSI ENRICO\",\"COMELLO PIER PAOLO\",\"TERZI DI BERGAMO NICCOL\\u00d2\",\"CECCARELLI GABRIELE\",\"MOSCA ANTONIO\",\"BELLON ALESSANDRO\",\"DE LUCIA FABIO LUCA\",\"REZZARO DANIELE\",\"ANTONIN CLAUDIO ROGER\",\"MILLIERY YVAN\",\"GIANSETTO STEFANO\",\"VIGITELLO CORRADO\",\"ARCARO GIANLUCA\"],\"legendgroup\":\"OVER35_M\",\"marker\":{\"color\":\"#EF553B\",\"symbol\":\"circle\"},\"mode\":\"markers\",\"name\":\"OVER35_M\",\"orientation\":\"v\",\"showlegend\":true,\"x\":[3,11,12,17,24,33,38,46,61,67,70,76,78,81,84,92,93,98,109,113,120,121,122,123,124,131,132,133,138,143,146,149,156,158,166,175,183,187,194,198,200,206,208,209,211,227,234,238,250,256],\"xaxis\":\"x\",\"y\":[4,25,21,90,23,95,33,110,91,161,216,150,137,112,134,84,209,176,123,189,107,138,108,203,179,193,88,173,170,172,239,199,175,229,219,246,250,198,241,261,242,249,220,257,278,115,294,271,283,214],\"yaxis\":\"y\",\"type\":\"scatter\"},{\"hovertemplate\":\"\\u003cb\\u003eLOWESS trendline\\u003c\\u002fb\\u003e\\u003cbr\\u003e\\u003cbr\\u003eCat=OVER35_M\\u003cbr\\u003ePos=%{x}\\u003cbr\\u003ePettorale=%{y} \\u003cb\\u003e(trend)\\u003c\\u002fb\\u003e\\u003cextra\\u003e\\u003c\\u002fextra\\u003e\",\"legendgroup\":\"OVER35_M\",\"marker\":{\"color\":\"#EF553B\",\"symbol\":\"circle\"},\"mode\":\"lines\",\"name\":\"OVER35_M\",\"showlegend\":false,\"x\":[3,11,12,17,24,33,38,46,61,67,70,76,78,81,84,92,93,98,109,113,120,121,122,123,124,131,132,133,138,143,146,149,156,158,166,175,183,187,194,198,200,206,208,209,211,227,234,238,250,256],\"xaxis\":\"x\",\"y\":[25.57649212093019,36.915430377458264,38.32043669191773,45.30383327938599,54.96583508742397,67.18475937010474,73.87884964048145,84.46351051114367,104.129698989535,112.1390086889097,116.2490489360723,124.69314049935346,127.48752841024809,131.01915517445588,134.80970772683662,141.44048665598507,142.2491620172716,146.81448876766638,156.05570484952634,159.4689579479069,165.20519933445436,165.96086708006322,166.71589178438805,167.72098890702694,168.48762546161632,174.19465583035162,175.30838331912537,176.4183305957679,181.39781065476765,186.73942903533504,190.02033617703117,193.1020722668183,200.3632812156576,202.47545172541157,211.33286095234772,220.93238093322802,229.05426674894605,232.49044019428698,238.07677977813654,241.16462600392717,242.69565197261738,247.25769975351858,248.7706464534721,249.52590210621221,251.03422936635633,262.98700366244924,268.13237828316636,271.0431141876743,279.6017556001724,283.75862250436484],\"yaxis\":\"y\",\"type\":\"scatter\"},{\"hovertemplate\":\"\\u003cb\\u003e%{hovertext}\\u003c\\u002fb\\u003e\\u003cbr\\u003e\\u003cbr\\u003eCat=UNDER20_M\\u003cbr\\u003ePos=%{x}\\u003cbr\\u003ePettorale=%{y}\\u003cextra\\u003e\\u003c\\u002fextra\\u003e\",\"hovertext\":[\"GERBAZ STEFANO\",\"GADIN DAVIDE\",\"BARREL DEWIS\",\"HERIN GABRIEL\",\"PHILIPPOT THIERRY\",\"GASPARD LUCAS\",\"CHADEL CIEN\",\"BRUNOD ERIK\",\"BONIN ALESSANDRO\",\"CESA HERV\\u00c9\",\"BROGLIO TOMMASO\",\"DE PIERI GABRIELE\",\"ROULLET CHRISTOPHE FEDERICO\",\"DALLA PALMA FRANCESCO\",\"USSEGLIO GROS ROBERTO\",\"DISTROTTI MATTEO\"],\"legendgroup\":\"UNDER20_M\",\"marker\":{\"color\":\"#00cc96\",\"symbol\":\"circle\"},\"mode\":\"markers\",\"name\":\"UNDER20_M\",\"orientation\":\"v\",\"showlegend\":true,\"x\":[4,7,16,18,22,44,60,73,91,96,99,104,110,155,165,225],\"xaxis\":\"x\",\"y\":[83,7,24,85,114,128,156,26,131,196,86,211,125,210,124,279],\"yaxis\":\"y\",\"type\":\"scatter\"},{\"hovertemplate\":\"\\u003cb\\u003eLOWESS trendline\\u003c\\u002fb\\u003e\\u003cbr\\u003e\\u003cbr\\u003eCat=UNDER20_M\\u003cbr\\u003ePos=%{x}\\u003cbr\\u003ePettorale=%{y} \\u003cb\\u003e(trend)\\u003c\\u002fb\\u003e\\u003cextra\\u003e\\u003c\\u002fextra\\u003e\",\"legendgroup\":\"UNDER20_M\",\"marker\":{\"color\":\"#00cc96\",\"symbol\":\"circle\"},\"mode\":\"lines\",\"name\":\"UNDER20_M\",\"showlegend\":false,\"x\":[4,7,16,18,22,44,60,73,91,96,99,104,110,155,165,225],\"xaxis\":\"x\",\"y\":[49.327825633376925,54.28124626591634,68.4798576626457,71.48059877085575,77.30816451631935,104.93747796738,118.99412893998775,128.25036047520706,137.48467498732052,140.9683519717067,143.4940265366218,150.09668193848017,154.14740652636434,178.19733552181543,193.33721195914637,259.8404067176747],\"yaxis\":\"y\",\"type\":\"scatter\"},{\"hovertemplate\":\"\\u003cb\\u003e%{hovertext}\\u003c\\u002fb\\u003e\\u003cbr\\u003e\\u003cbr\\u003eCat=UNDER16_M\\u003cbr\\u003ePos=%{x}\\u003cbr\\u003ePettorale=%{y}\\u003cextra\\u003e\\u003c\\u002fextra\\u003e\",\"hovertext\":[\"MAGISTRO MARCO\",\"PIVOT CRISTIAN GABRIELE\",\"BARREL ERWIN\",\"BELTRAMELLI LUCA\",\"FALCHI LAMBERTO\",\"GORRAZ NOAH\",\"PHILIPPOT JOEL\",\"VAGNEUR LEONARDO\",\"BELOTTI MICHELE\",\"MILLIERY MATHIAS\",\"BELOTTI FEDERICO\",\"CHAUSSOD JACQUES\",\"PERARDI SIMONE\",\"LUBOZ CORRADO\",\"TANINI CRISTIAN\",\"BONUCCELLI MARCO\"],\"legendgroup\":\"UNDER16_M\",\"marker\":{\"color\":\"#ab63fa\",\"symbol\":\"circle\"},\"mode\":\"markers\",\"name\":\"UNDER16_M\",\"orientation\":\"v\",\"showlegend\":true,\"x\":[10,21,30,41,43,50,58,68,77,95,126,128,136,164,197,221],\"xaxis\":\"x\",\"y\":[9,20,35,102,116,31,19,185,147,182,148,180,117,255,129,231],\"yaxis\":\"y\",\"type\":\"scatter\"},{\"hovertemplate\":\"\\u003cb\\u003eLOWESS trendline\\u003c\\u002fb\\u003e\\u003cbr\\u003e\\u003cbr\\u003eCat=UNDER16_M\\u003cbr\\u003ePos=%{x}\\u003cbr\\u003ePettorale=%{y} \\u003cb\\u003e(trend)\\u003c\\u002fb\\u003e\\u003cextra\\u003e\\u003c\\u002fextra\\u003e\",\"legendgroup\":\"UNDER16_M\",\"marker\":{\"color\":\"#ab63fa\",\"symbol\":\"circle\"},\"mode\":\"lines\",\"name\":\"UNDER16_M\",\"showlegend\":false,\"x\":[10,21,30,41,43,50,58,68,77,95,126,128,136,164,197,221],\"xaxis\":\"x\",\"y\":[6.670152208488254,28.445148702166836,46.195114272832654,68.37972138617151,72.6010771735074,88.13887143938268,106.25811309669493,127.12370360112753,146.8036045229578,156.5297321911418,168.3095181194804,169.44570971453498,170.2728573402204,177.94755338985445,195.10532561231858,206.4878000689401],\"yaxis\":\"y\",\"type\":\"scatter\"},{\"hovertemplate\":\"\\u003cb\\u003e%{hovertext}\\u003c\\u002fb\\u003e\\u003cbr\\u003e\\u003cbr\\u003eCat=OVER20_F\\u003cbr\\u003ePos=%{x}\\u003cbr\\u003ePettorale=%{y}\\u003cextra\\u003e\\u003c\\u002fextra\\u003e\",\"hovertext\":[\"VERONESE ILARIA\",\"CONTI FABIOLA\",\"SEGOR LAURA\",\"JUNOD NOEMI\",\"TRUC SYLVIE\",\"MACRI' GIADA\",\"BAROLIN DEBORA\",\"CHIAVAZZA IRMA\",\"MALUQUIN SEGOR ANA\\u00cfS\",\"BIANCO ELISA\",\"VALSECCHI MONICA\",\"NOBILI SVEVA\",\"MARCHISIO GIULIA\",\"BLANC MAGUELONNE\",\"LUCIANAZ EYVIA\",\"SEGATTO GIULIA\",\"COSSARD ARIANNA\",\"FERROD MONIQUE\",\"MARTINET CAMILLA\"],\"legendgroup\":\"OVER20_F\",\"marker\":{\"color\":\"#FFA15A\",\"symbol\":\"circle\"},\"mode\":\"markers\",\"name\":\"OVER20_F\",\"orientation\":\"v\",\"showlegend\":true,\"x\":[19,36,51,54,56,100,106,115,141,142,154,159,172,179,186,193,204,216,246],\"xaxis\":\"x\",\"y\":[37,36,40,38,41,213,215,44,109,188,258,251,222,218,233,197,228,208,264],\"yaxis\":\"y\",\"type\":\"scatter\"},{\"hovertemplate\":\"\\u003cb\\u003eLOWESS trendline\\u003c\\u002fb\\u003e\\u003cbr\\u003e\\u003cbr\\u003eCat=OVER20_F\\u003cbr\\u003ePos=%{x}\\u003cbr\\u003ePettorale=%{y} \\u003cb\\u003e(trend)\\u003c\\u002fb\\u003e\\u003cextra\\u003e\\u003c\\u002fextra\\u003e\",\"legendgroup\":\"OVER20_F\",\"marker\":{\"color\":\"#FFA15A\",\"symbol\":\"circle\"},\"mode\":\"lines\",\"name\":\"OVER20_F\",\"showlegend\":false,\"x\":[19,36,51,54,56,100,106,115,141,142,154,159,172,179,186,193,204,216,246],\"xaxis\":\"x\",\"y\":[-3.6355065274787575,30.087650186511105,61.33559176038342,67.64394671970096,71.84723307619588,154.78552926867022,169.47418849430815,204.82580146336474,212.51656117981878,212.47580356945204,212.3797855126415,215.4112683315586,219.55692073611016,220.61793359480967,220.9926688503033,223.11187041962216,227.4027218678138,231.75464150416198,242.7339498980536],\"yaxis\":\"y\",\"type\":\"scatter\"},{\"hovertemplate\":\"\\u003cb\\u003e%{hovertext}\\u003c\\u002fb\\u003e\\u003cbr\\u003e\\u003cbr\\u003eCat=OVER50_M\\u003cbr\\u003ePos=%{x}\\u003cbr\\u003ePettorale=%{y}\\u003cextra\\u003e\\u003c\\u002fextra\\u003e\",\"hovertext\":[\"GIGLIO MATTEO\",\"APRILE MARCO\",\"RIVA PAOLO\",\"GORRAZ REMO\",\"MAGUET ROBERTO\",\"PERACINO ALBERTO\",\"PERRUQUET RUDY\",\"ARCANI DAVIDE\",\"VERONESE LUCIANO\",\"EMPEREUR DIEGO\",\"MORICHINI CARLO\",\"GUIZZETTI ADRIANO\",\"CUNEAZ SANDRO\",\"ZEMOZ ANDREA\",\"RIBAN PIERPAOLO\",\"NICOLUSSI IVAN\",\"GODIOZ WLADJMIR\",\"BUSA FABRIZIO\",\"CAMANDONA MARCO\",\"VAGLIASINDI MARCO SALVATORE\",\"GASPARELLO GIANCARLO\",\"ZHARA BUDA FULVIO\",\"PIFFARI MAURIZIO\",\"CAVALLO MARIOVALERIO\",\"LEBOLE ANTONIO\",\"CURELLI ENNIO\",\"BRIOSCHI ETTORE GIANNI\",\"DIEMOZ FERRUCCIO\",\"HERIN MICHELE MARIA\",\"COPPERO MAURIZIO\",\"SASSO DIEGO\",\"MOTTINI MICHEL\",\"SAPINET ANDREA\",\"FERREA MARCO\",\"TERZI DI BERGAMO GIANCARLO\",\"BOBBA PAOLO\",\"CHAUSSOD ORLANDO\",\"BORRIONE ROBERTO\",\"TOUSCOZ DAVIDE\",\"BERRUTI GIACOBBE\",\"TREVISAN EMILIO\",\"BIANCHI MIRKO\",\"BET MASSIMILIANO\",\"REMONDAZ PIERO\",\"FISANOTTI CLAUDIO GIOVANNI\",\"BOVIO STEFANO\"],\"legendgroup\":\"OVER50_M\",\"marker\":{\"color\":\"#19d3f3\",\"symbol\":\"circle\"},\"mode\":\"markers\",\"name\":\"OVER50_M\",\"orientation\":\"v\",\"showlegend\":true,\"x\":[25,28,31,32,35,42,45,48,59,85,86,89,90,102,107,108,119,125,130,134,139,151,152,161,163,169,170,177,178,185,192,210,212,214,217,218,220,222,229,235,236,241,242,244,247,252],\"xaxis\":\"x\",\"y\":[15,157,22,34,28,105,92,104,145,154,130,141,153,152,127,178,217,119,151,204,200,262,201,238,291,292,171,275,181,245,46,252,267,230,244,240,298,296,254,281,269,266,295,247,287,285],\"yaxis\":\"y\",\"type\":\"scatter\"},{\"hovertemplate\":\"\\u003cb\\u003eLOWESS trendline\\u003c\\u002fb\\u003e\\u003cbr\\u003e\\u003cbr\\u003eCat=OVER50_M\\u003cbr\\u003ePos=%{x}\\u003cbr\\u003ePettorale=%{y} \\u003cb\\u003e(trend)\\u003c\\u002fb\\u003e\\u003cextra\\u003e\\u003c\\u002fextra\\u003e\",\"legendgroup\":\"OVER50_M\",\"marker\":{\"color\":\"#19d3f3\",\"symbol\":\"circle\"},\"mode\":\"lines\",\"name\":\"OVER50_M\",\"showlegend\":false,\"x\":[25,28,31,32,35,42,45,48,59,85,86,89,90,102,107,108,119,125,130,134,139,151,152,161,163,169,170,177,178,185,192,210,212,214,217,218,220,222,229,235,236,241,242,244,247,252],\"xaxis\":\"x\",\"y\":[46.497761051361586,50.92833037288286,55.33604439415455,56.80018594155412,61.177780719846396,71.31801825352093,75.64031595180482,79.95312654918702,95.72279529583989,133.14278438386702,134.59761589941994,138.97526669725445,140.4390405010498,157.78757870246392,163.95807495857534,165.16066005097088,177.91303252450135,184.50134263224842,189.990329878664,194.41006545222163,199.93911082079003,212.26172551922167,213.36993857570272,221.6483317983967,223.59004301664615,228.97408184030098,230.03154033196074,236.24464402214255,237.06308600133087,243.1292373549476,247.1888404579803,257.00141588166025,258.0856688106833,259.17025834197557,260.7985091640752,261.3418997150428,262.4301912822669,263.5211738165075,267.3631469810204,270.6837365475977,271.239654475142,274.02962861430274,274.5896275191932,275.71154979820784,277.39900861860104,280.2241976420517],\"yaxis\":\"y\",\"type\":\"scatter\"},{\"hovertemplate\":\"\\u003cb\\u003e%{hovertext}\\u003c\\u002fb\\u003e\\u003cbr\\u003e\\u003cbr\\u003eCat=OVER35_F\\u003cbr\\u003ePos=%{x}\\u003cbr\\u003ePettorale=%{y}\\u003cextra\\u003e\\u003c\\u002fextra\\u003e\",\"hovertext\":[\"VICQU\\u00c9RY CHRISTINE\",\"CRAUSAZ CHRISTINE\",\"CHAMPVILLAIR ELENA\",\"PONT MARCELLA\",\"PETITJACQUES SANDY\",\"LALE LACROIX ERIKA\",\"MARCHI DANIELA\",\"DALBARD ALINE\",\"LALE DEMOZ SUSY\",\"TIRASSA CAROLA\",\"MARIAN CARMEN-DIANA\"],\"legendgroup\":\"OVER35_F\",\"marker\":{\"color\":\"#B6E880\",\"symbol\":\"circle\"},\"mode\":\"markers\",\"name\":\"OVER35_F\",\"orientation\":\"v\",\"showlegend\":true,\"x\":[71,72,157,173,188,189,196,202,233,251,254],\"xaxis\":\"x\",\"y\":[39,43,166,183,288,260,243,277,265,290,273],\"yaxis\":\"y\",\"type\":\"scatter\"},{\"hovertemplate\":\"\\u003cb\\u003eLOWESS trendline\\u003c\\u002fb\\u003e\\u003cbr\\u003e\\u003cbr\\u003eCat=OVER35_F\\u003cbr\\u003ePos=%{x}\\u003cbr\\u003ePettorale=%{y} \\u003cb\\u003e(trend)\\u003c\\u002fb\\u003e\\u003cextra\\u003e\\u003c\\u002fextra\\u003e\",\"legendgroup\":\"OVER35_F\",\"marker\":{\"color\":\"#B6E880\",\"symbol\":\"circle\"},\"mode\":\"lines\",\"name\":\"OVER35_F\",\"showlegend\":false,\"x\":[71,72,157,173,188,189,196,202,233,251,254],\"xaxis\":\"x\",\"y\":[40.251869169283786,41.70877549128607,160.87360930421607,202.68646967788354,241.05890339563783,243.6906386262335,262.50428915160313,261.3856359209891,272.54844509434474,278.5903151381268,279.8432245131512],\"yaxis\":\"y\",\"type\":\"scatter\"},{\"hovertemplate\":\"\\u003cb\\u003e%{hovertext}\\u003c\\u002fb\\u003e\\u003cbr\\u003e\\u003cbr\\u003eCat=OVER60_M\\u003cbr\\u003ePos=%{x}\\u003cbr\\u003ePettorale=%{y}\\u003cextra\\u003e\\u003c\\u002fextra\\u003e\",\"hovertext\":[\"BUVET MAURO\",\"VIVALDO DAVIDE\",\"MAINETTI ALBERTO\",\"ROCCHI DELFO\",\"VOLPIANO CLAUDIO\",\"NIGRA GIORGIO\",\"COLOMBO RICCARDO\",\"NANIA MICHELE\",\"PACCHIODI MAURO\",\"FORTUNATO MASSIMO\",\"CECCARELLI MARCO\",\"CHAMOIS ALESSANDRO\",\"TAJANA LUCA\",\"FUSANI GIANPIERO\"],\"legendgroup\":\"OVER60_M\",\"marker\":{\"color\":\"#FF97FF\",\"symbol\":\"circle\"},\"mode\":\"markers\",\"name\":\"OVER60_M\",\"orientation\":\"v\",\"showlegend\":true,\"x\":[79,150,168,171,176,182,184,203,205,219,223,226,228,255],\"xaxis\":\"x\",\"y\":[140,120,194,289,253,234,259,236,293,268,284,237,297,299],\"yaxis\":\"y\",\"type\":\"scatter\"},{\"hovertemplate\":\"\\u003cb\\u003eLOWESS trendline\\u003c\\u002fb\\u003e\\u003cbr\\u003e\\u003cbr\\u003eCat=OVER60_M\\u003cbr\\u003ePos=%{x}\\u003cbr\\u003ePettorale=%{y} \\u003cb\\u003e(trend)\\u003c\\u002fb\\u003e\\u003cextra\\u003e\\u003c\\u002fextra\\u003e\",\"legendgroup\":\"OVER60_M\",\"marker\":{\"color\":\"#FF97FF\",\"symbol\":\"circle\"},\"mode\":\"lines\",\"name\":\"OVER60_M\",\"showlegend\":false,\"x\":[79,150,168,171,176,182,184,203,205,219,223,226,228,255],\"xaxis\":\"x\",\"y\":[131.9602868583038,134.59200622400036,196.24299877591665,205.8797109412183,221.70438917534136,239.24628440128672,243.1260489588746,262.0765193384622,263.03668812793455,271.90439597388615,274.69285088332407,276.92847652842426,278.40226669053163,298.3777394756843],\"yaxis\":\"y\",\"type\":\"scatter\"},{\"hovertemplate\":\"\\u003cb\\u003e%{hovertext}\\u003c\\u002fb\\u003e\\u003cbr\\u003e\\u003cbr\\u003eCat=OVER50_F\\u003cbr\\u003ePos=%{x}\\u003cbr\\u003ePettorale=%{y}\\u003cextra\\u003e\\u003c\\u002fextra\\u003e\",\"hovertext\":[\"TEPPEX FEDERICA\",\"BRUNA VALERIA\",\"TITOLO CLAUDIA\",\"MUTTI PATRIZIA\",\"CANEPA FRANCESCA\",\"MARCONATO GIUSEPPINA\",\"FERRANDOZ MARINA\",\"BONATO FLAVIA\",\"GHIRARDI MILENA\",\"DELFINO CATERINA\",\"CASTAGNA FRANCESCA\",\"BOSONIN ENRICA\",\"SIRIGU DANIELA\",\"RAISIN CHANTAL\",\"CANAVESE CLAUDIA EMMA\",\"COMELLO CLAUDIA\",\"DEMARCHI CRISTINA\"],\"legendgroup\":\"OVER50_F\",\"marker\":{\"color\":\"#FECB52\",\"symbol\":\"circle\"},\"mode\":\"markers\",\"name\":\"OVER50_F\",\"orientation\":\"v\",\"showlegend\":true,\"x\":[116,118,127,140,145,160,162,190,201,207,230,237,239,243,245,249,253],\"xaxis\":\"x\",\"y\":[111,158,190,202,45,300,136,256,126,272,47,235,274,276,286,282,263],\"yaxis\":\"y\",\"type\":\"scatter\"},{\"hovertemplate\":\"\\u003cb\\u003eLOWESS trendline\\u003c\\u002fb\\u003e\\u003cbr\\u003e\\u003cbr\\u003eCat=OVER50_F\\u003cbr\\u003ePos=%{x}\\u003cbr\\u003ePettorale=%{y} \\u003cb\\u003e(trend)\\u003c\\u002fb\\u003e\\u003cextra\\u003e\\u003c\\u002fextra\\u003e\",\"legendgroup\":\"OVER50_F\",\"marker\":{\"color\":\"#FECB52\",\"symbol\":\"circle\"},\"mode\":\"lines\",\"name\":\"OVER50_F\",\"showlegend\":false,\"x\":[116,118,127,140,145,160,162,190,201,207,230,237,239,243,245,249,253],\"xaxis\":\"x\",\"y\":[145.84379708294838,147.95435044331938,157.4122510966457,171.12680428114302,176.40901079249966,191.82678623733509,193.80137279781215,220.66242103164396,231.25975076604493,236.41043174429768,256.6700003977143,263.04434131157456,264.8763531718992,268.56186965772525,270.41717801917974,274.1516262474587,277.90777794896377],\"yaxis\":\"y\",\"type\":\"scatter\"},{\"hovertemplate\":\"\\u003cb\\u003e%{hovertext}\\u003c\\u002fb\\u003e\\u003cbr\\u003e\\u003cbr\\u003eCat=UNDER20_F\\u003cbr\\u003ePos=%{x}\\u003cbr\\u003ePettorale=%{y}\\u003cextra\\u003e\\u003c\\u002fextra\\u003e\",\"hovertext\":[\"MANIEZZO ALICE\",\"TIZZANI ELISABETTA\",\"GARETTA FRANCESCA\",\"ANTONIN SILVIA\"],\"legendgroup\":\"UNDER20_F\",\"marker\":{\"color\":\"#636efa\",\"symbol\":\"circle\"},\"mode\":\"markers\",\"name\":\"UNDER20_F\",\"orientation\":\"v\",\"showlegend\":true,\"x\":[117,181,231,240],\"xaxis\":\"x\",\"y\":[42,121,227,187],\"yaxis\":\"y\",\"type\":\"scatter\"},{\"hovertemplate\":\"\\u003cb\\u003eLOWESS trendline\\u003c\\u002fb\\u003e\\u003cbr\\u003e\\u003cbr\\u003eCat=UNDER20_F\\u003cbr\\u003ePos=%{x}\\u003cbr\\u003ePettorale=%{y} \\u003cb\\u003e(trend)\\u003c\\u002fb\\u003e\\u003cextra\\u003e\\u003c\\u002fextra\\u003e\",\"legendgroup\":\"UNDER20_F\",\"marker\":{\"color\":\"#636efa\",\"symbol\":\"circle\"},\"mode\":\"lines\",\"name\":\"UNDER20_F\",\"showlegend\":false,\"x\":[117,181,231,240],\"xaxis\":\"x\",\"y\":[42.0,121.0,227.0,187.0],\"yaxis\":\"y\",\"type\":\"scatter\"},{\"hovertemplate\":\"\\u003cb\\u003e%{hovertext}\\u003c\\u002fb\\u003e\\u003cbr\\u003e\\u003cbr\\u003eCat=UNDER16_F\\u003cbr\\u003ePos=%{x}\\u003cbr\\u003ePettorale=%{y}\\u003cextra\\u003e\\u003c\\u002fextra\\u003e\",\"hovertext\":[\"FRAMARIN GIULIA\"],\"legendgroup\":\"UNDER16_F\",\"marker\":{\"color\":\"#EF553B\",\"symbol\":\"circle\"},\"mode\":\"markers\",\"name\":\"UNDER16_F\",\"orientation\":\"v\",\"showlegend\":true,\"x\":[153],\"xaxis\":\"x\",\"y\":[167],\"yaxis\":\"y\",\"type\":\"scatter\"},{\"hovertemplate\":\"Cat=UNDER16_F\\u003cextra\\u003e\\u003c\\u002fextra\\u003e\",\"legendgroup\":\"UNDER16_F\",\"marker\":{\"color\":\"#EF553B\",\"symbol\":\"circle\"},\"mode\":\"lines\",\"name\":\"UNDER16_F\",\"showlegend\":false,\"xaxis\":\"x\",\"yaxis\":\"y\",\"type\":\"scatter\"},{\"hovertemplate\":\"\\u003cb\\u003e%{hovertext}\\u003c\\u002fb\\u003e\\u003cbr\\u003e\\u003cbr\\u003eCat=OVER60_F\\u003cbr\\u003ePos=%{x}\\u003cbr\\u003ePettorale=%{y}\\u003cextra\\u003e\\u003c\\u002fextra\\u003e\",\"hovertext\":[\"VERGURA CARMELA\",\"AP\\u00c8RE NICOLETTA\"],\"legendgroup\":\"OVER60_F\",\"marker\":{\"color\":\"#00cc96\",\"symbol\":\"circle\"},\"mode\":\"markers\",\"name\":\"OVER60_F\",\"orientation\":\"v\",\"showlegend\":true,\"x\":[213,232],\"xaxis\":\"x\",\"y\":[221,280],\"yaxis\":\"y\",\"type\":\"scatter\"},{\"hovertemplate\":\"\\u003cb\\u003eLOWESS trendline\\u003c\\u002fb\\u003e\\u003cbr\\u003e\\u003cbr\\u003eCat=OVER60_F\\u003cbr\\u003ePos=%{x}\\u003cbr\\u003ePettorale=%{y} \\u003cb\\u003e(trend)\\u003c\\u002fb\\u003e\\u003cextra\\u003e\\u003c\\u002fextra\\u003e\",\"legendgroup\":\"OVER60_F\",\"marker\":{\"color\":\"#00cc96\",\"symbol\":\"circle\"},\"mode\":\"lines\",\"name\":\"OVER60_F\",\"showlegend\":false,\"x\":[213,232],\"xaxis\":\"x\",\"y\":[221.0,280.0],\"yaxis\":\"y\",\"type\":\"scatter\"}],                        {\"template\":{\"data\":{\"histogram2dcontour\":[{\"type\":\"histogram2dcontour\",\"colorbar\":{\"outlinewidth\":0,\"ticks\":\"\"},\"colorscale\":[[0.0,\"#0d0887\"],[0.1111111111111111,\"#46039f\"],[0.2222222222222222,\"#7201a8\"],[0.3333333333333333,\"#9c179e\"],[0.4444444444444444,\"#bd3786\"],[0.5555555555555556,\"#d8576b\"],[0.6666666666666666,\"#ed7953\"],[0.7777777777777778,\"#fb9f3a\"],[0.8888888888888888,\"#fdca26\"],[1.0,\"#f0f921\"]]}],\"choropleth\":[{\"type\":\"choropleth\",\"colorbar\":{\"outlinewidth\":0,\"ticks\":\"\"}}],\"histogram2d\":[{\"type\":\"histogram2d\",\"colorbar\":{\"outlinewidth\":0,\"ticks\":\"\"},\"colorscale\":[[0.0,\"#0d0887\"],[0.1111111111111111,\"#46039f\"],[0.2222222222222222,\"#7201a8\"],[0.3333333333333333,\"#9c179e\"],[0.4444444444444444,\"#bd3786\"],[0.5555555555555556,\"#d8576b\"],[0.6666666666666666,\"#ed7953\"],[0.7777777777777778,\"#fb9f3a\"],[0.8888888888888888,\"#fdca26\"],[1.0,\"#f0f921\"]]}],\"heatmap\":[{\"type\":\"heatmap\",\"colorbar\":{\"outlinewidth\":0,\"ticks\":\"\"},\"colorscale\":[[0.0,\"#0d0887\"],[0.1111111111111111,\"#46039f\"],[0.2222222222222222,\"#7201a8\"],[0.3333333333333333,\"#9c179e\"],[0.4444444444444444,\"#bd3786\"],[0.5555555555555556,\"#d8576b\"],[0.6666666666666666,\"#ed7953\"],[0.7777777777777778,\"#fb9f3a\"],[0.8888888888888888,\"#fdca26\"],[1.0,\"#f0f921\"]]}],\"heatmapgl\":[{\"type\":\"heatmapgl\",\"colorbar\":{\"outlinewidth\":0,\"ticks\":\"\"},\"colorscale\":[[0.0,\"#0d0887\"],[0.1111111111111111,\"#46039f\"],[0.2222222222222222,\"#7201a8\"],[0.3333333333333333,\"#9c179e\"],[0.4444444444444444,\"#bd3786\"],[0.5555555555555556,\"#d8576b\"],[0.6666666666666666,\"#ed7953\"],[0.7777777777777778,\"#fb9f3a\"],[0.8888888888888888,\"#fdca26\"],[1.0,\"#f0f921\"]]}],\"contourcarpet\":[{\"type\":\"contourcarpet\",\"colorbar\":{\"outlinewidth\":0,\"ticks\":\"\"}}],\"contour\":[{\"type\":\"contour\",\"colorbar\":{\"outlinewidth\":0,\"ticks\":\"\"},\"colorscale\":[[0.0,\"#0d0887\"],[0.1111111111111111,\"#46039f\"],[0.2222222222222222,\"#7201a8\"],[0.3333333333333333,\"#9c179e\"],[0.4444444444444444,\"#bd3786\"],[0.5555555555555556,\"#d8576b\"],[0.6666666666666666,\"#ed7953\"],[0.7777777777777778,\"#fb9f3a\"],[0.8888888888888888,\"#fdca26\"],[1.0,\"#f0f921\"]]}],\"surface\":[{\"type\":\"surface\",\"colorbar\":{\"outlinewidth\":0,\"ticks\":\"\"},\"colorscale\":[[0.0,\"#0d0887\"],[0.1111111111111111,\"#46039f\"],[0.2222222222222222,\"#7201a8\"],[0.3333333333333333,\"#9c179e\"],[0.4444444444444444,\"#bd3786\"],[0.5555555555555556,\"#d8576b\"],[0.6666666666666666,\"#ed7953\"],[0.7777777777777778,\"#fb9f3a\"],[0.8888888888888888,\"#fdca26\"],[1.0,\"#f0f921\"]]}],\"mesh3d\":[{\"type\":\"mesh3d\",\"colorbar\":{\"outlinewidth\":0,\"ticks\":\"\"}}],\"scatter\":[{\"marker\":{\"line\":{\"color\":\"#283442\"}},\"type\":\"scatter\"}],\"parcoords\":[{\"type\":\"parcoords\",\"line\":{\"colorbar\":{\"outlinewidth\":0,\"ticks\":\"\"}}}],\"scatterpolargl\":[{\"type\":\"scatterpolargl\",\"marker\":{\"colorbar\":{\"outlinewidth\":0,\"ticks\":\"\"}}}],\"bar\":[{\"error_x\":{\"color\":\"#f2f5fa\"},\"error_y\":{\"color\":\"#f2f5fa\"},\"marker\":{\"line\":{\"color\":\"rgb(17,17,17)\",\"width\":0.5},\"pattern\":{\"fillmode\":\"overlay\",\"size\":10,\"solidity\":0.2}},\"type\":\"bar\"}],\"scattergeo\":[{\"type\":\"scattergeo\",\"marker\":{\"colorbar\":{\"outlinewidth\":0,\"ticks\":\"\"}}}],\"scatterpolar\":[{\"type\":\"scatterpolar\",\"marker\":{\"colorbar\":{\"outlinewidth\":0,\"ticks\":\"\"}}}],\"histogram\":[{\"marker\":{\"pattern\":{\"fillmode\":\"overlay\",\"size\":10,\"solidity\":0.2}},\"type\":\"histogram\"}],\"scattergl\":[{\"marker\":{\"line\":{\"color\":\"#283442\"}},\"type\":\"scattergl\"}],\"scatter3d\":[{\"type\":\"scatter3d\",\"line\":{\"colorbar\":{\"outlinewidth\":0,\"ticks\":\"\"}},\"marker\":{\"colorbar\":{\"outlinewidth\":0,\"ticks\":\"\"}}}],\"scattermapbox\":[{\"type\":\"scattermapbox\",\"marker\":{\"colorbar\":{\"outlinewidth\":0,\"ticks\":\"\"}}}],\"scatterternary\":[{\"type\":\"scatterternary\",\"marker\":{\"colorbar\":{\"outlinewidth\":0,\"ticks\":\"\"}}}],\"scattercarpet\":[{\"type\":\"scattercarpet\",\"marker\":{\"colorbar\":{\"outlinewidth\":0,\"ticks\":\"\"}}}],\"carpet\":[{\"aaxis\":{\"endlinecolor\":\"#A2B1C6\",\"gridcolor\":\"#506784\",\"linecolor\":\"#506784\",\"minorgridcolor\":\"#506784\",\"startlinecolor\":\"#A2B1C6\"},\"baxis\":{\"endlinecolor\":\"#A2B1C6\",\"gridcolor\":\"#506784\",\"linecolor\":\"#506784\",\"minorgridcolor\":\"#506784\",\"startlinecolor\":\"#A2B1C6\"},\"type\":\"carpet\"}],\"table\":[{\"cells\":{\"fill\":{\"color\":\"#506784\"},\"line\":{\"color\":\"rgb(17,17,17)\"}},\"header\":{\"fill\":{\"color\":\"#2a3f5f\"},\"line\":{\"color\":\"rgb(17,17,17)\"}},\"type\":\"table\"}],\"barpolar\":[{\"marker\":{\"line\":{\"color\":\"rgb(17,17,17)\",\"width\":0.5},\"pattern\":{\"fillmode\":\"overlay\",\"size\":10,\"solidity\":0.2}},\"type\":\"barpolar\"}],\"pie\":[{\"automargin\":true,\"type\":\"pie\"}]},\"layout\":{\"autotypenumbers\":\"strict\",\"colorway\":[\"#636efa\",\"#EF553B\",\"#00cc96\",\"#ab63fa\",\"#FFA15A\",\"#19d3f3\",\"#FF6692\",\"#B6E880\",\"#FF97FF\",\"#FECB52\"],\"font\":{\"color\":\"#f2f5fa\"},\"hovermode\":\"closest\",\"hoverlabel\":{\"align\":\"left\"},\"paper_bgcolor\":\"rgb(17,17,17)\",\"plot_bgcolor\":\"rgb(17,17,17)\",\"polar\":{\"bgcolor\":\"rgb(17,17,17)\",\"angularaxis\":{\"gridcolor\":\"#506784\",\"linecolor\":\"#506784\",\"ticks\":\"\"},\"radialaxis\":{\"gridcolor\":\"#506784\",\"linecolor\":\"#506784\",\"ticks\":\"\"}},\"ternary\":{\"bgcolor\":\"rgb(17,17,17)\",\"aaxis\":{\"gridcolor\":\"#506784\",\"linecolor\":\"#506784\",\"ticks\":\"\"},\"baxis\":{\"gridcolor\":\"#506784\",\"linecolor\":\"#506784\",\"ticks\":\"\"},\"caxis\":{\"gridcolor\":\"#506784\",\"linecolor\":\"#506784\",\"ticks\":\"\"}},\"coloraxis\":{\"colorbar\":{\"outlinewidth\":0,\"ticks\":\"\"}},\"colorscale\":{\"sequential\":[[0.0,\"#0d0887\"],[0.1111111111111111,\"#46039f\"],[0.2222222222222222,\"#7201a8\"],[0.3333333333333333,\"#9c179e\"],[0.4444444444444444,\"#bd3786\"],[0.5555555555555556,\"#d8576b\"],[0.6666666666666666,\"#ed7953\"],[0.7777777777777778,\"#fb9f3a\"],[0.8888888888888888,\"#fdca26\"],[1.0,\"#f0f921\"]],\"sequentialminus\":[[0.0,\"#0d0887\"],[0.1111111111111111,\"#46039f\"],[0.2222222222222222,\"#7201a8\"],[0.3333333333333333,\"#9c179e\"],[0.4444444444444444,\"#bd3786\"],[0.5555555555555556,\"#d8576b\"],[0.6666666666666666,\"#ed7953\"],[0.7777777777777778,\"#fb9f3a\"],[0.8888888888888888,\"#fdca26\"],[1.0,\"#f0f921\"]],\"diverging\":[[0,\"#8e0152\"],[0.1,\"#c51b7d\"],[0.2,\"#de77ae\"],[0.3,\"#f1b6da\"],[0.4,\"#fde0ef\"],[0.5,\"#f7f7f7\"],[0.6,\"#e6f5d0\"],[0.7,\"#b8e186\"],[0.8,\"#7fbc41\"],[0.9,\"#4d9221\"],[1,\"#276419\"]]},\"xaxis\":{\"gridcolor\":\"#283442\",\"linecolor\":\"#506784\",\"ticks\":\"\",\"title\":{\"standoff\":15},\"zerolinecolor\":\"#283442\",\"automargin\":true,\"zerolinewidth\":2},\"yaxis\":{\"gridcolor\":\"#283442\",\"linecolor\":\"#506784\",\"ticks\":\"\",\"title\":{\"standoff\":15},\"zerolinecolor\":\"#283442\",\"automargin\":true,\"zerolinewidth\":2},\"scene\":{\"xaxis\":{\"backgroundcolor\":\"rgb(17,17,17)\",\"gridcolor\":\"#506784\",\"linecolor\":\"#506784\",\"showbackground\":true,\"ticks\":\"\",\"zerolinecolor\":\"#C8D4E3\",\"gridwidth\":2},\"yaxis\":{\"backgroundcolor\":\"rgb(17,17,17)\",\"gridcolor\":\"#506784\",\"linecolor\":\"#506784\",\"showbackground\":true,\"ticks\":\"\",\"zerolinecolor\":\"#C8D4E3\",\"gridwidth\":2},\"zaxis\":{\"backgroundcolor\":\"rgb(17,17,17)\",\"gridcolor\":\"#506784\",\"linecolor\":\"#506784\",\"showbackground\":true,\"ticks\":\"\",\"zerolinecolor\":\"#C8D4E3\",\"gridwidth\":2}},\"shapedefaults\":{\"line\":{\"color\":\"#f2f5fa\"}},\"annotationdefaults\":{\"arrowcolor\":\"#f2f5fa\",\"arrowhead\":0,\"arrowwidth\":1},\"geo\":{\"bgcolor\":\"rgb(17,17,17)\",\"landcolor\":\"rgb(17,17,17)\",\"subunitcolor\":\"#506784\",\"showland\":true,\"showlakes\":true,\"lakecolor\":\"rgb(17,17,17)\"},\"title\":{\"x\":0.05},\"updatemenudefaults\":{\"bgcolor\":\"#506784\",\"borderwidth\":0},\"sliderdefaults\":{\"bgcolor\":\"#C8D4E3\",\"borderwidth\":1,\"bordercolor\":\"rgb(17,17,17)\",\"tickwidth\":0},\"mapbox\":{\"style\":\"dark\"}}},\"xaxis\":{\"anchor\":\"y\",\"domain\":[0.0,1.0],\"title\":{\"text\":\"Pos\"}},\"yaxis\":{\"anchor\":\"x\",\"domain\":[0.0,1.0],\"title\":{\"text\":\"Pettorale\"}},\"legend\":{\"title\":{\"text\":\"Cat\"},\"tracegroupgap\":0},\"margin\":{\"t\":60}},                        {\"responsive\": true}                    ).then(function(){\n",
       "                            \n",
       "var gd = document.getElementById('5a002d0c-d107-4ca2-b5ad-61ff9483dd5e');\n",
       "var x = new MutationObserver(function (mutations, observer) {{\n",
       "        var display = window.getComputedStyle(gd).display;\n",
       "        if (!display || display === 'none') {{\n",
       "            console.log([gd, 'removed!']);\n",
       "            Plotly.purge(gd);\n",
       "            observer.disconnect();\n",
       "        }}\n",
       "}});\n",
       "\n",
       "// Listen for the removal of the full notebook cells\n",
       "var notebookContainer = gd.closest('#notebook-container');\n",
       "if (notebookContainer) {{\n",
       "    x.observe(notebookContainer, {childList: true});\n",
       "}}\n",
       "\n",
       "// Listen for the clearing of the current output cell\n",
       "var outputEl = gd.closest('.output');\n",
       "if (outputEl) {{\n",
       "    x.observe(outputEl, {childList: true});\n",
       "}}\n",
       "\n",
       "                        })                };                });            </script>        </div>"
      ]
     },
     "metadata": {},
     "output_type": "display_data"
    }
   ],
   "execution_count": 12
  },
  {
   "metadata": {
    "ExecuteTime": {
     "end_time": "2024-11-04T16:53:39.942269Z",
     "start_time": "2024-11-04T16:53:39.885393Z"
    }
   },
   "cell_type": "code",
   "source": "px.scatter(df.to_pandas(), x=\"Pos\", y=\"Pettorale\", color=\"Sex\", hover_name=\"Atleta\", trendline=\"lowess\")\n",
   "id": "21adb3ef9872d8cb",
   "outputs": [
    {
     "data": {
      "application/vnd.plotly.v1+json": {
       "data": [
        {
         "hovertemplate": "<b>%{hovertext}</b><br><br>Sex=M<br>Pos=%{x}<br>Pettorale=%{y}<extra></extra>",
         "hovertext": [
          "AYMONOD HENRI",
          "BONINO FEDERICO",
          "BRUNOD DENNIS",
          "GERBAZ STEFANO",
          "CUAZ WLADIMIR",
          "VOTA STEFANO",
          "GADIN DAVIDE",
          "SILETTO MATTEO",
          "VERRAZ YANNICK",
          "MAGISTRO MARCO",
          "BLANC FABRIZIO",
          "VALLET RUDY",
          "DONZEL DENIS",
          "DEANOZ CLEMENT",
          "JANIN JOEL",
          "BARREL DEWIS",
          "CUAZ FABRIZIO",
          "HERIN GABRIEL",
          "CHAMPRETAVY FABIEN",
          "PIVOT CRISTIAN GABRIELE",
          "PHILIPPOT THIERRY",
          "CHRISTILLE CEDRIC",
          "VUILLERMOZ NADIR",
          "GIGLIO MATTEO",
          "VACCHIERI MARCO",
          "BIANQUIN MATTHIEU",
          "APRILE MARCO",
          "GONTIER ALBERTO",
          "BARREL ERWIN",
          "RIVA PAOLO",
          "GORRAZ REMO",
          "MONTALTO CARLO FEDERICO",
          "NOUSSAN ALEX",
          "MAGUET ROBERTO",
          "PEANI GIANLUCA",
          "PESSION NICOLA",
          "MARCHIANDO MATTEO",
          "OJETTI FABIO ROSILIO",
          "BELTRAMELLI LUCA",
          "PERACINO ALBERTO",
          "FALCHI LAMBERTO",
          "GASPARD LUCAS",
          "PERRUQUET RUDY",
          "DUCRET ALEX",
          "AIELLO MICHELE",
          "ARCANI DAVIDE",
          "JOLY MATTIA",
          "GORRAZ NOAH",
          "PANGALLO MATTEO",
          "BUSCHINO PAOLO",
          "BONETTA STEFANO",
          "GRIVEL THIERRY",
          "PHILIPPOT JOEL",
          "VERONESE LUCIANO",
          "CHADEL CIEN",
          "SCIEGHI MATTEO",
          "CRAFA ALESSIO",
          "COURTHOUD MATHIEU",
          "GNEMMI LUCA",
          "CHENAL MATTEO",
          "PETITJACQUES MIGUEL",
          "CODA CASEIA DANIELE",
          "VAGNEUR LEONARDO",
          "CAPELLAZZI PIETRO",
          "TEPPA GUIDO",
          "BRUNOD ERIK",
          "PEZZOLI ALESSANDRO",
          "SGAMMEGLIA ROBERT",
          "ARTAZ TIZIANO",
          "BELOTTI MICHELE",
          "PARNISARI RUBEN DARIO",
          "BUVET MAURO",
          "QUENDOZ CHRISTIAN",
          "PHILIPPOT MORENO",
          "ZORZI NAZARENO UMBERTO",
          "OBERT JACQUES",
          "SPANO' LUCA",
          "EMPEREUR DIEGO",
          "MORICHINI CARLO",
          "CASTAGNOLI SIMONE",
          "VENTURA SIMONE",
          "GUIZZETTI ADRIANO",
          "CUNEAZ SANDRO",
          "BONIN ALESSANDRO",
          "FUSO PAOLO",
          "DESANA FABIO FRANCESCO",
          "VAUTERIN RAPHAEL",
          "MILLIERY MATHIAS",
          "CESA HERVÉ",
          "REVERDITO FABIO",
          "CAVALLO MARCO",
          "BROGLIO TOMMASO",
          "FALCIONI FABIO",
          "ZEMOZ ANDREA",
          "GRITTI MATTEO",
          "DE PIERI GABRIELE",
          "COMÉ ANDRÉ",
          "RIBAN PIERPAOLO",
          "NICOLUSSI IVAN",
          "IMPIERI DAVIDE",
          "ROULLET CHRISTOPHE FEDERICO",
          "MILLIERY RICHARD",
          "PESSION DANIELE",
          "DEMURO MASSIMO",
          "ARCO FABIO",
          "GODIOZ WLADJMIR",
          "RIZZATO NICOLÒ",
          "PETEY PATRICK",
          "VERRAZ DAVIDE",
          "PETEY ROBERTO",
          "RAPELLI ROBERTO",
          "BUSA FABRIZIO",
          "BELOTTI FEDERICO",
          "CHAUSSOD JACQUES",
          "COLLIARD OMAR",
          "CAMANDONA MARCO",
          "VITTAZ DEMIS",
          "BREUVÉ MICHEL",
          "FAVRE JEAN CLAUDE",
          "VAGLIASINDI MARCO SALVATORE",
          "ROVATI MATTEO",
          "PERARDI SIMONE",
          "MAZZA ANTONIO",
          "POULIN SÉBASTIEN",
          "GASPARELLO GIANCARLO",
          "CAPPELLARI MISHA RIZIERI",
          "PIEROPAN FEDERICO",
          "MICHELETTI DAVIDE",
          "CLEMENTE PISATI CRISTIAN",
          "PERRIER LAURENT",
          "BACCA RICCARDO",
          "VIVALDO DAVIDE",
          "ZHARA BUDA FULVIO",
          "PIFFARI MAURIZIO",
          "DALLA PALMA FRANCESCO",
          "FOY MANUEL",
          "BELTRAMELLI ANDREA",
          "CAVALLO MARIOVALERIO",
          "LEBOLE ANTONIO",
          "LUBOZ CORRADO",
          "USSEGLIO GROS ROBERTO",
          "ASCOLI ALESSANDRO",
          "MANELLA LAURENT",
          "MAINETTI ALBERTO",
          "CURELLI ENNIO",
          "BRIOSCHI ETTORE GIANNI",
          "ROCCHI DELFO",
          "SILVANI LAURENT",
          "IACHETTI GIUSEPPE",
          "VOLPIANO CLAUDIO",
          "DIEMOZ FERRUCCIO",
          "HERIN MICHELE MARIA",
          "CHALLANCIN MICHEL",
          "NIGRA GIORGIO",
          "ZANNI CRISTIAN",
          "COLOMBO RICCARDO",
          "COPPERO MAURIZIO",
          "MERSI ENRICO",
          "RATTI LOUIS",
          "SASSO DIEGO",
          "COMELLO PIER PAOLO",
          "ADAM FLORIN",
          "TANINI CRISTIAN",
          "TERZI DI BERGAMO NICCOLÒ",
          "LINTY ETIENNE",
          "CECCARELLI GABRIELE",
          "NANIA MICHELE",
          "PACCHIODI MAURO",
          "MOSCA ANTONIO",
          "BELLON ALESSANDRO",
          "DE LUCIA FABIO LUCA",
          "MOTTINI MICHEL",
          "REZZARO DANIELE",
          "SAPINET ANDREA",
          "FERREA MARCO",
          "VILLOSIO MATTEO",
          "TERZI DI BERGAMO GIANCARLO",
          "BOBBA PAOLO",
          "FORTUNATO MASSIMO",
          "CHAUSSOD ORLANDO",
          "BONUCCELLI MARCO",
          "BORRIONE ROBERTO",
          "CECCARELLI MARCO",
          "STELLA LORENZO",
          "DISTROTTI MATTEO",
          "CHAMOIS ALESSANDRO",
          "ANTONIN CLAUDIO ROGER",
          "TAJANA LUCA",
          "TOUSCOZ DAVIDE",
          "MILLIERY YVAN",
          "BERRUTI GIACOBBE",
          "TREVISAN EMILIO",
          "GIANSETTO STEFANO",
          "BIANCHI MIRKO",
          "BET MASSIMILIANO",
          "REMONDAZ PIERO",
          "FISANOTTI CLAUDIO GIOVANNI",
          "TREVISAN MATTEO",
          "VIGITELLO CORRADO",
          "BOVIO STEFANO",
          "FUSANI GIANPIERO",
          "ARCARO GIANLUCA"
         ],
         "legendgroup": "M",
         "marker": {
          "color": "#636efa",
          "symbol": "circle"
         },
         "mode": "markers",
         "name": "M",
         "orientation": "v",
         "showlegend": true,
         "x": [
          1,
          2,
          3,
          4,
          5,
          6,
          7,
          8,
          9,
          10,
          11,
          12,
          13,
          14,
          15,
          16,
          17,
          18,
          20,
          21,
          22,
          23,
          24,
          25,
          26,
          27,
          28,
          29,
          30,
          31,
          32,
          33,
          34,
          35,
          37,
          38,
          39,
          40,
          41,
          42,
          43,
          44,
          45,
          46,
          47,
          48,
          49,
          50,
          52,
          53,
          55,
          57,
          58,
          59,
          60,
          61,
          62,
          63,
          64,
          65,
          66,
          67,
          68,
          69,
          70,
          73,
          74,
          75,
          76,
          77,
          78,
          79,
          80,
          81,
          82,
          83,
          84,
          85,
          86,
          87,
          88,
          89,
          90,
          91,
          92,
          93,
          94,
          95,
          96,
          97,
          98,
          99,
          101,
          102,
          103,
          104,
          105,
          107,
          108,
          109,
          110,
          111,
          112,
          113,
          114,
          119,
          120,
          121,
          122,
          123,
          124,
          125,
          126,
          128,
          129,
          130,
          131,
          132,
          133,
          134,
          135,
          136,
          137,
          138,
          139,
          143,
          144,
          146,
          147,
          148,
          149,
          150,
          151,
          152,
          155,
          156,
          158,
          161,
          163,
          164,
          165,
          166,
          167,
          168,
          169,
          170,
          171,
          174,
          175,
          176,
          177,
          178,
          180,
          182,
          183,
          184,
          185,
          187,
          191,
          192,
          194,
          195,
          197,
          198,
          199,
          200,
          203,
          205,
          206,
          208,
          209,
          210,
          211,
          212,
          214,
          215,
          217,
          218,
          219,
          220,
          221,
          222,
          223,
          224,
          225,
          226,
          227,
          228,
          229,
          234,
          235,
          236,
          238,
          241,
          242,
          244,
          247,
          248,
          250,
          252,
          255,
          256
         ],
         "xaxis": "x",
         "y": [
          1,
          3,
          4,
          83,
          6,
          27,
          7,
          5,
          8,
          9,
          25,
          21,
          14,
          13,
          16,
          24,
          90,
          85,
          12,
          20,
          114,
          10,
          23,
          15,
          87,
          32,
          157,
          17,
          35,
          22,
          34,
          95,
          94,
          28,
          106,
          33,
          122,
          164,
          102,
          105,
          116,
          128,
          92,
          110,
          159,
          104,
          100,
          31,
          162,
          96,
          146,
          18,
          19,
          145,
          156,
          91,
          93,
          11,
          132,
          30,
          133,
          161,
          185,
          195,
          216,
          26,
          118,
          81,
          150,
          147,
          137,
          140,
          29,
          112,
          89,
          113,
          134,
          154,
          130,
          191,
          135,
          141,
          153,
          131,
          84,
          209,
          98,
          182,
          196,
          206,
          176,
          86,
          149,
          152,
          142,
          211,
          82,
          127,
          178,
          123,
          125,
          139,
          99,
          189,
          163,
          217,
          107,
          138,
          108,
          203,
          179,
          119,
          148,
          180,
          101,
          151,
          193,
          88,
          173,
          204,
          160,
          117,
          205,
          170,
          200,
          172,
          155,
          239,
          224,
          207,
          199,
          120,
          262,
          201,
          210,
          175,
          229,
          238,
          291,
          255,
          124,
          219,
          226,
          194,
          292,
          171,
          289,
          248,
          246,
          253,
          275,
          181,
          165,
          234,
          250,
          259,
          245,
          198,
          144,
          46,
          241,
          186,
          129,
          261,
          212,
          242,
          236,
          293,
          249,
          220,
          257,
          252,
          278,
          267,
          230,
          223,
          244,
          240,
          268,
          298,
          231,
          296,
          284,
          169,
          279,
          237,
          115,
          297,
          254,
          294,
          281,
          269,
          271,
          266,
          295,
          247,
          287,
          270,
          283,
          285,
          299,
          214
         ],
         "yaxis": "y",
         "type": "scatter"
        },
        {
         "hovertemplate": "<b>LOWESS trendline</b><br><br>Sex=M<br>Pos=%{x}<br>Pettorale=%{y} <b>(trend)</b><extra></extra>",
         "legendgroup": "M",
         "marker": {
          "color": "#636efa",
          "symbol": "circle"
         },
         "mode": "lines",
         "name": "M",
         "showlegend": false,
         "x": [
          1,
          2,
          3,
          4,
          5,
          6,
          7,
          8,
          9,
          10,
          11,
          12,
          13,
          14,
          15,
          16,
          17,
          18,
          20,
          21,
          22,
          23,
          24,
          25,
          26,
          27,
          28,
          29,
          30,
          31,
          32,
          33,
          34,
          35,
          37,
          38,
          39,
          40,
          41,
          42,
          43,
          44,
          45,
          46,
          47,
          48,
          49,
          50,
          52,
          53,
          55,
          57,
          58,
          59,
          60,
          61,
          62,
          63,
          64,
          65,
          66,
          67,
          68,
          69,
          70,
          73,
          74,
          75,
          76,
          77,
          78,
          79,
          80,
          81,
          82,
          83,
          84,
          85,
          86,
          87,
          88,
          89,
          90,
          91,
          92,
          93,
          94,
          95,
          96,
          97,
          98,
          99,
          101,
          102,
          103,
          104,
          105,
          107,
          108,
          109,
          110,
          111,
          112,
          113,
          114,
          119,
          120,
          121,
          122,
          123,
          124,
          125,
          126,
          128,
          129,
          130,
          131,
          132,
          133,
          134,
          135,
          136,
          137,
          138,
          139,
          143,
          144,
          146,
          147,
          148,
          149,
          150,
          151,
          152,
          155,
          156,
          158,
          161,
          163,
          164,
          165,
          166,
          167,
          168,
          169,
          170,
          171,
          174,
          175,
          176,
          177,
          178,
          180,
          182,
          183,
          184,
          185,
          187,
          191,
          192,
          194,
          195,
          197,
          198,
          199,
          200,
          203,
          205,
          206,
          208,
          209,
          210,
          211,
          212,
          214,
          215,
          217,
          218,
          219,
          220,
          221,
          222,
          223,
          224,
          225,
          226,
          227,
          228,
          229,
          234,
          235,
          236,
          238,
          241,
          242,
          244,
          247,
          248,
          250,
          252,
          255,
          256
         ],
         "xaxis": "x",
         "y": [
          17.802934542154482,
          19.268746121810963,
          20.73197902435854,
          22.192591367118805,
          23.650543066832334,
          25.105782171687956,
          26.558257345527597,
          28.007918533419247,
          29.454721862305966,
          30.898632036799167,
          32.3396223269554,
          33.777673773617565,
          35.21277192561684,
          36.644907973987365,
          38.07408150557266,
          39.500301681485546,
          40.92358680479039,
          42.34395923032211,
          45.17600244405417,
          46.587675497564064,
          47.99646162709403,
          49.40237917529471,
          50.80544010757772,
          52.2056650809559,
          53.603087100139724,
          54.99774928084708,
          56.38969317788341,
          57.77896387843553,
          59.165602791890116,
          60.54966140760951,
          61.931204030589,
          63.31030990107491,
          64.6870694231224,
          66.06157097368416,
          68.80415996738563,
          70.17245086544156,
          71.5388791845801,
          72.90356005262841,
          74.266604990183,
          75.62811725097646,
          76.98819561320019,
          78.34693444681608,
          79.7044209565736,
          81.06073425757394,
          82.41595102774167,
          83.77014182167488,
          85.12336557315184,
          86.47567518009625,
          89.1777844783949,
          90.52773086241784,
          93.22575524705645,
          95.92174149440811,
          97.2691299468803,
          98.61622668065438,
          99.96314490006887,
          101.30998651597763,
          102.6568290834809,
          104.0037365522709,
          105.35075617903253,
          106.69790912824224,
          108.04514471851923,
          109.39231875428608,
          110.73910840276038,
          112.08490929614602,
          113.42871778737302,
          117.4292430848578,
          118.74232100013698,
          120.03815524176471,
          121.31190362010379,
          122.36913986449737,
          123.23302542123164,
          124.27322500631406,
          125.30155998783361,
          126.31821257638212,
          127.18361195253735,
          128.18853492221146,
          129.06491194703608,
          130.0610753492701,
          131.04881003307605,
          132.02905875960045,
          133.002611012104,
          133.9702019147115,
          134.93256801337824,
          135.89039814830699,
          136.8444554646391,
          137.79542334629295,
          138.73389088886,
          139.69113934217293,
          140.6471549564905,
          141.60254646392332,
          142.5579469408065,
          143.47189033802667,
          145.43213346739591,
          146.3952321897157,
          147.3616616948608,
          148.33198969032682,
          149.30680712012096,
          151.36743531382257,
          152.45779139863805,
          153.4597952418241,
          154.4660932743002,
          155.573129619421,
          156.5870445945736,
          157.60411986916714,
          158.62422878762706,
          163.82056921638724,
          164.8997307317338,
          165.86406756724014,
          166.88359352486899,
          167.94173642401654,
          168.9518240229951,
          169.95922742217417,
          170.96346140551134,
          172.96111622983042,
          173.95419181294235,
          174.94332319706294,
          175.93732891678943,
          176.91574387237415,
          177.88993442121696,
          178.85977282292652,
          179.825297305985,
          180.78670401003444,
          181.75033626368318,
          182.7063390658763,
          183.65877405197168,
          187.45921641493914,
          188.40164787990696,
          190.25661781376797,
          191.16716755172234,
          192.1018621824816,
          193.03684754205838,
          193.9725835757549,
          194.87979104614757,
          195.81722948648107,
          198.61091689700504,
          199.5556575382673,
          201.42291114815822,
          204.28178364900367,
          206.20024437283527,
          207.12910418201693,
          208.09311976949348,
          209.05972266717697,
          209.9893771029407,
          210.917823947351,
          211.84442608130246,
          212.7689611044363,
          213.69142844276172,
          216.44784926330266,
          217.3635427767942,
          218.27790905384367,
          219.19103383724004,
          220.10296618591255,
          221.92332462196092,
          223.73908278701643,
          224.64526031670957,
          225.55030222393742,
          226.45419290878954,
          228.25840865286142,
          231.85185541827667,
          232.7470013947458,
          234.53341080893898,
          235.42468484893922,
          237.20341332708395,
          238.09090186385026,
          238.9771704627692,
          239.8622413630256,
          242.51051796283804,
          244.27049685982925,
          245.1488938069189,
          246.90257649238228,
          247.77788534002096,
          248.65219231176948,
          249.52551219430916,
          250.39785733899774,
          252.13964668563113,
          253.00909722567508,
          254.7451522845296,
          255.611785825761,
          256.4775123173842,
          257.34235105209257,
          258.2063179230788,
          259.06942289905686,
          259.9316771499577,
          260.7930859222745,
          261.6536509079538,
          262.5133797944328,
          263.37228011063115,
          264.2303629985127,
          265.0876401401531,
          269.3621869090882,
          270.2147777836708,
          271.0666052047386,
          272.7679602574947,
          275.31420907309405,
          276.16140860429135,
          277.85347290796454,
          280.38570129923266,
          281.22822184355294,
          282.91094592110795,
          284.5906077689788,
          287.10442525538775,
          287.94086326455675
         ],
         "yaxis": "y",
         "type": "scatter"
        },
        {
         "hovertemplate": "<b>%{hovertext}</b><br><br>Sex=F<br>Pos=%{x}<br>Pettorale=%{y}<extra></extra>",
         "hovertext": [
          "VERONESE ILARIA",
          "CONTI FABIOLA",
          "SEGOR LAURA",
          "JUNOD NOEMI",
          "TRUC SYLVIE",
          "VICQUÉRY CHRISTINE",
          "CRAUSAZ CHRISTINE",
          "MACRI' GIADA",
          "BAROLIN DEBORA",
          "CHIAVAZZA IRMA",
          "TEPPEX FEDERICA",
          "MANIEZZO ALICE",
          "BRUNA VALERIA",
          "TITOLO CLAUDIA",
          "MUTTI PATRIZIA",
          "MALUQUIN SEGOR ANAÏS",
          "BIANCO ELISA",
          "CANEPA FRANCESCA",
          "FRAMARIN GIULIA",
          "VALSECCHI MONICA",
          "CHAMPVILLAIR ELENA",
          "NOBILI SVEVA",
          "MARCONATO GIUSEPPINA",
          "FERRANDOZ MARINA",
          "MARCHISIO GIULIA",
          "PONT MARCELLA",
          "BLANC MAGUELONNE",
          "TIZZANI ELISABETTA",
          "LUCIANAZ EYVIA",
          "PETITJACQUES SANDY",
          "LALE LACROIX ERIKA",
          "BONATO FLAVIA",
          "SEGATTO GIULIA",
          "MARCHI DANIELA",
          "GHIRARDI MILENA",
          "DALBARD ALINE",
          "COSSARD ARIANNA",
          "DELFINO CATERINA",
          "VERGURA CARMELA",
          "FERROD MONIQUE",
          "CASTAGNA FRANCESCA",
          "GARETTA FRANCESCA",
          "APÈRE NICOLETTA",
          "LALE DEMOZ SUSY",
          "BOSONIN ENRICA",
          "SIRIGU DANIELA",
          "ANTONIN SILVIA",
          "RAISIN CHANTAL",
          "CANAVESE CLAUDIA EMMA",
          "MARTINET CAMILLA",
          "COMELLO CLAUDIA",
          "TIRASSA CAROLA",
          "DEMARCHI CRISTINA",
          "MARIAN CARMEN-DIANA"
         ],
         "legendgroup": "F",
         "marker": {
          "color": "#EF553B",
          "symbol": "circle"
         },
         "mode": "markers",
         "name": "F",
         "orientation": "v",
         "showlegend": true,
         "x": [
          19,
          36,
          51,
          54,
          56,
          71,
          72,
          100,
          106,
          115,
          116,
          117,
          118,
          127,
          140,
          141,
          142,
          145,
          153,
          154,
          157,
          159,
          160,
          162,
          172,
          173,
          179,
          181,
          186,
          188,
          189,
          190,
          193,
          196,
          201,
          202,
          204,
          207,
          213,
          216,
          230,
          231,
          232,
          233,
          237,
          239,
          240,
          243,
          245,
          246,
          249,
          251,
          253,
          254
         ],
         "xaxis": "x",
         "y": [
          37,
          36,
          40,
          38,
          41,
          39,
          43,
          213,
          215,
          44,
          111,
          42,
          158,
          190,
          202,
          109,
          188,
          45,
          167,
          258,
          166,
          251,
          300,
          136,
          222,
          183,
          218,
          121,
          233,
          288,
          260,
          256,
          197,
          243,
          126,
          277,
          228,
          272,
          221,
          208,
          47,
          227,
          280,
          265,
          235,
          274,
          187,
          276,
          286,
          264,
          282,
          290,
          263,
          273
         ],
         "yaxis": "y",
         "type": "scatter"
        },
        {
         "hovertemplate": "<b>LOWESS trendline</b><br><br>Sex=F<br>Pos=%{x}<br>Pettorale=%{y} <b>(trend)</b><extra></extra>",
         "legendgroup": "F",
         "marker": {
          "color": "#EF553B",
          "symbol": "circle"
         },
         "mode": "lines",
         "name": "F",
         "showlegend": false,
         "x": [
          19,
          36,
          51,
          54,
          56,
          71,
          72,
          100,
          106,
          115,
          116,
          117,
          118,
          127,
          140,
          141,
          142,
          145,
          153,
          154,
          157,
          159,
          160,
          162,
          172,
          173,
          179,
          181,
          186,
          188,
          189,
          190,
          193,
          196,
          201,
          202,
          204,
          207,
          213,
          216,
          230,
          231,
          232,
          233,
          237,
          239,
          240,
          243,
          245,
          246,
          249,
          251,
          253,
          254
         ],
         "xaxis": "x",
         "y": [
          2.64800784199759,
          24.5570828495925,
          44.17308272188497,
          48.105885688999614,
          50.72652058644501,
          70.28129775331395,
          71.57471360346504,
          107.32169614760753,
          115.33658671208505,
          128.55560662527674,
          130.11067211917816,
          131.69098723572696,
          133.29751815123572,
          148.31142209616718,
          167.15850388261526,
          168.46421058757045,
          169.72546615014363,
          173.5379348592834,
          183.70199137297524,
          184.949352174489,
          188.77536368786397,
          191.41935295851195,
          192.7773955001446,
          195.57675838308427,
          209.36692364355912,
          210.51819961486663,
          216.252222369902,
          217.93070352195062,
          222.56964857521615,
          224.46908071777236,
          225.38900163525764,
          226.2821522408585,
          228.63896941557536,
          230.49196894769295,
          234.0360216411717,
          234.79529677505798,
          236.23993431447568,
          238.38315884630896,
          242.84312910156024,
          244.99522470224346,
          254.67420928744033,
          255.3580161283906,
          256.04194791345554,
          256.72622457874115,
          259.46944532085905,
          260.8462627283948,
          261.5364708578271,
          263.6165305869364,
          265.0135875137008,
          265.71582129374883,
          267.83862607157596,
          269.26796381805997,
          270.7087387270235,
          271.4332631788941
         ],
         "yaxis": "y",
         "type": "scatter"
        }
       ],
       "layout": {
        "template": {
         "data": {
          "histogram2dcontour": [
           {
            "type": "histogram2dcontour",
            "colorbar": {
             "outlinewidth": 0,
             "ticks": ""
            },
            "colorscale": [
             [
              0.0,
              "#0d0887"
             ],
             [
              0.1111111111111111,
              "#46039f"
             ],
             [
              0.2222222222222222,
              "#7201a8"
             ],
             [
              0.3333333333333333,
              "#9c179e"
             ],
             [
              0.4444444444444444,
              "#bd3786"
             ],
             [
              0.5555555555555556,
              "#d8576b"
             ],
             [
              0.6666666666666666,
              "#ed7953"
             ],
             [
              0.7777777777777778,
              "#fb9f3a"
             ],
             [
              0.8888888888888888,
              "#fdca26"
             ],
             [
              1.0,
              "#f0f921"
             ]
            ]
           }
          ],
          "choropleth": [
           {
            "type": "choropleth",
            "colorbar": {
             "outlinewidth": 0,
             "ticks": ""
            }
           }
          ],
          "histogram2d": [
           {
            "type": "histogram2d",
            "colorbar": {
             "outlinewidth": 0,
             "ticks": ""
            },
            "colorscale": [
             [
              0.0,
              "#0d0887"
             ],
             [
              0.1111111111111111,
              "#46039f"
             ],
             [
              0.2222222222222222,
              "#7201a8"
             ],
             [
              0.3333333333333333,
              "#9c179e"
             ],
             [
              0.4444444444444444,
              "#bd3786"
             ],
             [
              0.5555555555555556,
              "#d8576b"
             ],
             [
              0.6666666666666666,
              "#ed7953"
             ],
             [
              0.7777777777777778,
              "#fb9f3a"
             ],
             [
              0.8888888888888888,
              "#fdca26"
             ],
             [
              1.0,
              "#f0f921"
             ]
            ]
           }
          ],
          "heatmap": [
           {
            "type": "heatmap",
            "colorbar": {
             "outlinewidth": 0,
             "ticks": ""
            },
            "colorscale": [
             [
              0.0,
              "#0d0887"
             ],
             [
              0.1111111111111111,
              "#46039f"
             ],
             [
              0.2222222222222222,
              "#7201a8"
             ],
             [
              0.3333333333333333,
              "#9c179e"
             ],
             [
              0.4444444444444444,
              "#bd3786"
             ],
             [
              0.5555555555555556,
              "#d8576b"
             ],
             [
              0.6666666666666666,
              "#ed7953"
             ],
             [
              0.7777777777777778,
              "#fb9f3a"
             ],
             [
              0.8888888888888888,
              "#fdca26"
             ],
             [
              1.0,
              "#f0f921"
             ]
            ]
           }
          ],
          "heatmapgl": [
           {
            "type": "heatmapgl",
            "colorbar": {
             "outlinewidth": 0,
             "ticks": ""
            },
            "colorscale": [
             [
              0.0,
              "#0d0887"
             ],
             [
              0.1111111111111111,
              "#46039f"
             ],
             [
              0.2222222222222222,
              "#7201a8"
             ],
             [
              0.3333333333333333,
              "#9c179e"
             ],
             [
              0.4444444444444444,
              "#bd3786"
             ],
             [
              0.5555555555555556,
              "#d8576b"
             ],
             [
              0.6666666666666666,
              "#ed7953"
             ],
             [
              0.7777777777777778,
              "#fb9f3a"
             ],
             [
              0.8888888888888888,
              "#fdca26"
             ],
             [
              1.0,
              "#f0f921"
             ]
            ]
           }
          ],
          "contourcarpet": [
           {
            "type": "contourcarpet",
            "colorbar": {
             "outlinewidth": 0,
             "ticks": ""
            }
           }
          ],
          "contour": [
           {
            "type": "contour",
            "colorbar": {
             "outlinewidth": 0,
             "ticks": ""
            },
            "colorscale": [
             [
              0.0,
              "#0d0887"
             ],
             [
              0.1111111111111111,
              "#46039f"
             ],
             [
              0.2222222222222222,
              "#7201a8"
             ],
             [
              0.3333333333333333,
              "#9c179e"
             ],
             [
              0.4444444444444444,
              "#bd3786"
             ],
             [
              0.5555555555555556,
              "#d8576b"
             ],
             [
              0.6666666666666666,
              "#ed7953"
             ],
             [
              0.7777777777777778,
              "#fb9f3a"
             ],
             [
              0.8888888888888888,
              "#fdca26"
             ],
             [
              1.0,
              "#f0f921"
             ]
            ]
           }
          ],
          "surface": [
           {
            "type": "surface",
            "colorbar": {
             "outlinewidth": 0,
             "ticks": ""
            },
            "colorscale": [
             [
              0.0,
              "#0d0887"
             ],
             [
              0.1111111111111111,
              "#46039f"
             ],
             [
              0.2222222222222222,
              "#7201a8"
             ],
             [
              0.3333333333333333,
              "#9c179e"
             ],
             [
              0.4444444444444444,
              "#bd3786"
             ],
             [
              0.5555555555555556,
              "#d8576b"
             ],
             [
              0.6666666666666666,
              "#ed7953"
             ],
             [
              0.7777777777777778,
              "#fb9f3a"
             ],
             [
              0.8888888888888888,
              "#fdca26"
             ],
             [
              1.0,
              "#f0f921"
             ]
            ]
           }
          ],
          "mesh3d": [
           {
            "type": "mesh3d",
            "colorbar": {
             "outlinewidth": 0,
             "ticks": ""
            }
           }
          ],
          "scatter": [
           {
            "marker": {
             "line": {
              "color": "#283442"
             }
            },
            "type": "scatter"
           }
          ],
          "parcoords": [
           {
            "type": "parcoords",
            "line": {
             "colorbar": {
              "outlinewidth": 0,
              "ticks": ""
             }
            }
           }
          ],
          "scatterpolargl": [
           {
            "type": "scatterpolargl",
            "marker": {
             "colorbar": {
              "outlinewidth": 0,
              "ticks": ""
             }
            }
           }
          ],
          "bar": [
           {
            "error_x": {
             "color": "#f2f5fa"
            },
            "error_y": {
             "color": "#f2f5fa"
            },
            "marker": {
             "line": {
              "color": "rgb(17,17,17)",
              "width": 0.5
             },
             "pattern": {
              "fillmode": "overlay",
              "size": 10,
              "solidity": 0.2
             }
            },
            "type": "bar"
           }
          ],
          "scattergeo": [
           {
            "type": "scattergeo",
            "marker": {
             "colorbar": {
              "outlinewidth": 0,
              "ticks": ""
             }
            }
           }
          ],
          "scatterpolar": [
           {
            "type": "scatterpolar",
            "marker": {
             "colorbar": {
              "outlinewidth": 0,
              "ticks": ""
             }
            }
           }
          ],
          "histogram": [
           {
            "marker": {
             "pattern": {
              "fillmode": "overlay",
              "size": 10,
              "solidity": 0.2
             }
            },
            "type": "histogram"
           }
          ],
          "scattergl": [
           {
            "marker": {
             "line": {
              "color": "#283442"
             }
            },
            "type": "scattergl"
           }
          ],
          "scatter3d": [
           {
            "type": "scatter3d",
            "line": {
             "colorbar": {
              "outlinewidth": 0,
              "ticks": ""
             }
            },
            "marker": {
             "colorbar": {
              "outlinewidth": 0,
              "ticks": ""
             }
            }
           }
          ],
          "scattermapbox": [
           {
            "type": "scattermapbox",
            "marker": {
             "colorbar": {
              "outlinewidth": 0,
              "ticks": ""
             }
            }
           }
          ],
          "scatterternary": [
           {
            "type": "scatterternary",
            "marker": {
             "colorbar": {
              "outlinewidth": 0,
              "ticks": ""
             }
            }
           }
          ],
          "scattercarpet": [
           {
            "type": "scattercarpet",
            "marker": {
             "colorbar": {
              "outlinewidth": 0,
              "ticks": ""
             }
            }
           }
          ],
          "carpet": [
           {
            "aaxis": {
             "endlinecolor": "#A2B1C6",
             "gridcolor": "#506784",
             "linecolor": "#506784",
             "minorgridcolor": "#506784",
             "startlinecolor": "#A2B1C6"
            },
            "baxis": {
             "endlinecolor": "#A2B1C6",
             "gridcolor": "#506784",
             "linecolor": "#506784",
             "minorgridcolor": "#506784",
             "startlinecolor": "#A2B1C6"
            },
            "type": "carpet"
           }
          ],
          "table": [
           {
            "cells": {
             "fill": {
              "color": "#506784"
             },
             "line": {
              "color": "rgb(17,17,17)"
             }
            },
            "header": {
             "fill": {
              "color": "#2a3f5f"
             },
             "line": {
              "color": "rgb(17,17,17)"
             }
            },
            "type": "table"
           }
          ],
          "barpolar": [
           {
            "marker": {
             "line": {
              "color": "rgb(17,17,17)",
              "width": 0.5
             },
             "pattern": {
              "fillmode": "overlay",
              "size": 10,
              "solidity": 0.2
             }
            },
            "type": "barpolar"
           }
          ],
          "pie": [
           {
            "automargin": true,
            "type": "pie"
           }
          ]
         },
         "layout": {
          "autotypenumbers": "strict",
          "colorway": [
           "#636efa",
           "#EF553B",
           "#00cc96",
           "#ab63fa",
           "#FFA15A",
           "#19d3f3",
           "#FF6692",
           "#B6E880",
           "#FF97FF",
           "#FECB52"
          ],
          "font": {
           "color": "#f2f5fa"
          },
          "hovermode": "closest",
          "hoverlabel": {
           "align": "left"
          },
          "paper_bgcolor": "rgb(17,17,17)",
          "plot_bgcolor": "rgb(17,17,17)",
          "polar": {
           "bgcolor": "rgb(17,17,17)",
           "angularaxis": {
            "gridcolor": "#506784",
            "linecolor": "#506784",
            "ticks": ""
           },
           "radialaxis": {
            "gridcolor": "#506784",
            "linecolor": "#506784",
            "ticks": ""
           }
          },
          "ternary": {
           "bgcolor": "rgb(17,17,17)",
           "aaxis": {
            "gridcolor": "#506784",
            "linecolor": "#506784",
            "ticks": ""
           },
           "baxis": {
            "gridcolor": "#506784",
            "linecolor": "#506784",
            "ticks": ""
           },
           "caxis": {
            "gridcolor": "#506784",
            "linecolor": "#506784",
            "ticks": ""
           }
          },
          "coloraxis": {
           "colorbar": {
            "outlinewidth": 0,
            "ticks": ""
           }
          },
          "colorscale": {
           "sequential": [
            [
             0.0,
             "#0d0887"
            ],
            [
             0.1111111111111111,
             "#46039f"
            ],
            [
             0.2222222222222222,
             "#7201a8"
            ],
            [
             0.3333333333333333,
             "#9c179e"
            ],
            [
             0.4444444444444444,
             "#bd3786"
            ],
            [
             0.5555555555555556,
             "#d8576b"
            ],
            [
             0.6666666666666666,
             "#ed7953"
            ],
            [
             0.7777777777777778,
             "#fb9f3a"
            ],
            [
             0.8888888888888888,
             "#fdca26"
            ],
            [
             1.0,
             "#f0f921"
            ]
           ],
           "sequentialminus": [
            [
             0.0,
             "#0d0887"
            ],
            [
             0.1111111111111111,
             "#46039f"
            ],
            [
             0.2222222222222222,
             "#7201a8"
            ],
            [
             0.3333333333333333,
             "#9c179e"
            ],
            [
             0.4444444444444444,
             "#bd3786"
            ],
            [
             0.5555555555555556,
             "#d8576b"
            ],
            [
             0.6666666666666666,
             "#ed7953"
            ],
            [
             0.7777777777777778,
             "#fb9f3a"
            ],
            [
             0.8888888888888888,
             "#fdca26"
            ],
            [
             1.0,
             "#f0f921"
            ]
           ],
           "diverging": [
            [
             0,
             "#8e0152"
            ],
            [
             0.1,
             "#c51b7d"
            ],
            [
             0.2,
             "#de77ae"
            ],
            [
             0.3,
             "#f1b6da"
            ],
            [
             0.4,
             "#fde0ef"
            ],
            [
             0.5,
             "#f7f7f7"
            ],
            [
             0.6,
             "#e6f5d0"
            ],
            [
             0.7,
             "#b8e186"
            ],
            [
             0.8,
             "#7fbc41"
            ],
            [
             0.9,
             "#4d9221"
            ],
            [
             1,
             "#276419"
            ]
           ]
          },
          "xaxis": {
           "gridcolor": "#283442",
           "linecolor": "#506784",
           "ticks": "",
           "title": {
            "standoff": 15
           },
           "zerolinecolor": "#283442",
           "automargin": true,
           "zerolinewidth": 2
          },
          "yaxis": {
           "gridcolor": "#283442",
           "linecolor": "#506784",
           "ticks": "",
           "title": {
            "standoff": 15
           },
           "zerolinecolor": "#283442",
           "automargin": true,
           "zerolinewidth": 2
          },
          "scene": {
           "xaxis": {
            "backgroundcolor": "rgb(17,17,17)",
            "gridcolor": "#506784",
            "linecolor": "#506784",
            "showbackground": true,
            "ticks": "",
            "zerolinecolor": "#C8D4E3",
            "gridwidth": 2
           },
           "yaxis": {
            "backgroundcolor": "rgb(17,17,17)",
            "gridcolor": "#506784",
            "linecolor": "#506784",
            "showbackground": true,
            "ticks": "",
            "zerolinecolor": "#C8D4E3",
            "gridwidth": 2
           },
           "zaxis": {
            "backgroundcolor": "rgb(17,17,17)",
            "gridcolor": "#506784",
            "linecolor": "#506784",
            "showbackground": true,
            "ticks": "",
            "zerolinecolor": "#C8D4E3",
            "gridwidth": 2
           }
          },
          "shapedefaults": {
           "line": {
            "color": "#f2f5fa"
           }
          },
          "annotationdefaults": {
           "arrowcolor": "#f2f5fa",
           "arrowhead": 0,
           "arrowwidth": 1
          },
          "geo": {
           "bgcolor": "rgb(17,17,17)",
           "landcolor": "rgb(17,17,17)",
           "subunitcolor": "#506784",
           "showland": true,
           "showlakes": true,
           "lakecolor": "rgb(17,17,17)"
          },
          "title": {
           "x": 0.05
          },
          "updatemenudefaults": {
           "bgcolor": "#506784",
           "borderwidth": 0
          },
          "sliderdefaults": {
           "bgcolor": "#C8D4E3",
           "borderwidth": 1,
           "bordercolor": "rgb(17,17,17)",
           "tickwidth": 0
          },
          "mapbox": {
           "style": "dark"
          }
         }
        },
        "xaxis": {
         "anchor": "y",
         "domain": [
          0.0,
          1.0
         ],
         "title": {
          "text": "Pos"
         }
        },
        "yaxis": {
         "anchor": "x",
         "domain": [
          0.0,
          1.0
         ],
         "title": {
          "text": "Pettorale"
         }
        },
        "legend": {
         "title": {
          "text": "Sex"
         },
         "tracegroupgap": 0
        },
        "margin": {
         "t": 60
        }
       },
       "config": {
        "plotlyServerURL": "https://plot.ly"
       }
      },
      "text/html": [
       "<div>                            <div id=\"9fe27ca5-6465-4a7e-ab99-1b15ae4a43e0\" class=\"plotly-graph-div\" style=\"height:525px; width:100%;\"></div>            <script type=\"text/javascript\">                require([\"plotly\"], function(Plotly) {                    window.PLOTLYENV=window.PLOTLYENV || {};                                    if (document.getElementById(\"9fe27ca5-6465-4a7e-ab99-1b15ae4a43e0\")) {                    Plotly.newPlot(                        \"9fe27ca5-6465-4a7e-ab99-1b15ae4a43e0\",                        [{\"hovertemplate\":\"\\u003cb\\u003e%{hovertext}\\u003c\\u002fb\\u003e\\u003cbr\\u003e\\u003cbr\\u003eSex=M\\u003cbr\\u003ePos=%{x}\\u003cbr\\u003ePettorale=%{y}\\u003cextra\\u003e\\u003c\\u002fextra\\u003e\",\"hovertext\":[\"AYMONOD HENRI\",\"BONINO FEDERICO\",\"BRUNOD DENNIS\",\"GERBAZ STEFANO\",\"CUAZ WLADIMIR\",\"VOTA STEFANO\",\"GADIN DAVIDE\",\"SILETTO MATTEO\",\"VERRAZ YANNICK\",\"MAGISTRO MARCO\",\"BLANC FABRIZIO\",\"VALLET RUDY\",\"DONZEL DENIS\",\"DEANOZ CLEMENT\",\"JANIN JOEL\",\"BARREL DEWIS\",\"CUAZ FABRIZIO\",\"HERIN GABRIEL\",\"CHAMPRETAVY FABIEN\",\"PIVOT CRISTIAN GABRIELE\",\"PHILIPPOT THIERRY\",\"CHRISTILLE CEDRIC\",\"VUILLERMOZ NADIR\",\"GIGLIO MATTEO\",\"VACCHIERI MARCO\",\"BIANQUIN MATTHIEU\",\"APRILE MARCO\",\"GONTIER ALBERTO\",\"BARREL ERWIN\",\"RIVA PAOLO\",\"GORRAZ REMO\",\"MONTALTO CARLO FEDERICO\",\"NOUSSAN ALEX\",\"MAGUET ROBERTO\",\"PEANI GIANLUCA\",\"PESSION NICOLA\",\"MARCHIANDO MATTEO\",\"OJETTI FABIO ROSILIO\",\"BELTRAMELLI LUCA\",\"PERACINO ALBERTO\",\"FALCHI LAMBERTO\",\"GASPARD LUCAS\",\"PERRUQUET RUDY\",\"DUCRET ALEX\",\"AIELLO MICHELE\",\"ARCANI DAVIDE\",\"JOLY MATTIA\",\"GORRAZ NOAH\",\"PANGALLO MATTEO\",\"BUSCHINO PAOLO\",\"BONETTA STEFANO\",\"GRIVEL THIERRY\",\"PHILIPPOT JOEL\",\"VERONESE LUCIANO\",\"CHADEL CIEN\",\"SCIEGHI MATTEO\",\"CRAFA ALESSIO\",\"COURTHOUD MATHIEU\",\"GNEMMI LUCA\",\"CHENAL MATTEO\",\"PETITJACQUES MIGUEL\",\"CODA CASEIA DANIELE\",\"VAGNEUR LEONARDO\",\"CAPELLAZZI PIETRO\",\"TEPPA GUIDO\",\"BRUNOD ERIK\",\"PEZZOLI ALESSANDRO\",\"SGAMMEGLIA ROBERT\",\"ARTAZ TIZIANO\",\"BELOTTI MICHELE\",\"PARNISARI RUBEN DARIO\",\"BUVET MAURO\",\"QUENDOZ CHRISTIAN\",\"PHILIPPOT MORENO\",\"ZORZI NAZARENO UMBERTO\",\"OBERT JACQUES\",\"SPANO' LUCA\",\"EMPEREUR DIEGO\",\"MORICHINI CARLO\",\"CASTAGNOLI SIMONE\",\"VENTURA SIMONE\",\"GUIZZETTI ADRIANO\",\"CUNEAZ SANDRO\",\"BONIN ALESSANDRO\",\"FUSO PAOLO\",\"DESANA FABIO FRANCESCO\",\"VAUTERIN RAPHAEL\",\"MILLIERY MATHIAS\",\"CESA HERV\\u00c9\",\"REVERDITO FABIO\",\"CAVALLO MARCO\",\"BROGLIO TOMMASO\",\"FALCIONI FABIO\",\"ZEMOZ ANDREA\",\"GRITTI MATTEO\",\"DE PIERI GABRIELE\",\"COM\\u00c9 ANDR\\u00c9\",\"RIBAN PIERPAOLO\",\"NICOLUSSI IVAN\",\"IMPIERI DAVIDE\",\"ROULLET CHRISTOPHE FEDERICO\",\"MILLIERY RICHARD\",\"PESSION DANIELE\",\"DEMURO MASSIMO\",\"ARCO FABIO\",\"GODIOZ WLADJMIR\",\"RIZZATO NICOL\\u00d2\",\"PETEY PATRICK\",\"VERRAZ DAVIDE\",\"PETEY ROBERTO\",\"RAPELLI ROBERTO\",\"BUSA FABRIZIO\",\"BELOTTI FEDERICO\",\"CHAUSSOD JACQUES\",\"COLLIARD OMAR\",\"CAMANDONA MARCO\",\"VITTAZ DEMIS\",\"BREUV\\u00c9 MICHEL\",\"FAVRE JEAN CLAUDE\",\"VAGLIASINDI MARCO SALVATORE\",\"ROVATI MATTEO\",\"PERARDI SIMONE\",\"MAZZA ANTONIO\",\"POULIN S\\u00c9BASTIEN\",\"GASPARELLO GIANCARLO\",\"CAPPELLARI MISHA RIZIERI\",\"PIEROPAN FEDERICO\",\"MICHELETTI DAVIDE\",\"CLEMENTE PISATI CRISTIAN\",\"PERRIER LAURENT\",\"BACCA RICCARDO\",\"VIVALDO DAVIDE\",\"ZHARA BUDA FULVIO\",\"PIFFARI MAURIZIO\",\"DALLA PALMA FRANCESCO\",\"FOY MANUEL\",\"BELTRAMELLI ANDREA\",\"CAVALLO MARIOVALERIO\",\"LEBOLE ANTONIO\",\"LUBOZ CORRADO\",\"USSEGLIO GROS ROBERTO\",\"ASCOLI ALESSANDRO\",\"MANELLA LAURENT\",\"MAINETTI ALBERTO\",\"CURELLI ENNIO\",\"BRIOSCHI ETTORE GIANNI\",\"ROCCHI DELFO\",\"SILVANI LAURENT\",\"IACHETTI GIUSEPPE\",\"VOLPIANO CLAUDIO\",\"DIEMOZ FERRUCCIO\",\"HERIN MICHELE MARIA\",\"CHALLANCIN MICHEL\",\"NIGRA GIORGIO\",\"ZANNI CRISTIAN\",\"COLOMBO RICCARDO\",\"COPPERO MAURIZIO\",\"MERSI ENRICO\",\"RATTI LOUIS\",\"SASSO DIEGO\",\"COMELLO PIER PAOLO\",\"ADAM FLORIN\",\"TANINI CRISTIAN\",\"TERZI DI BERGAMO NICCOL\\u00d2\",\"LINTY ETIENNE\",\"CECCARELLI GABRIELE\",\"NANIA MICHELE\",\"PACCHIODI MAURO\",\"MOSCA ANTONIO\",\"BELLON ALESSANDRO\",\"DE LUCIA FABIO LUCA\",\"MOTTINI MICHEL\",\"REZZARO DANIELE\",\"SAPINET ANDREA\",\"FERREA MARCO\",\"VILLOSIO MATTEO\",\"TERZI DI BERGAMO GIANCARLO\",\"BOBBA PAOLO\",\"FORTUNATO MASSIMO\",\"CHAUSSOD ORLANDO\",\"BONUCCELLI MARCO\",\"BORRIONE ROBERTO\",\"CECCARELLI MARCO\",\"STELLA LORENZO\",\"DISTROTTI MATTEO\",\"CHAMOIS ALESSANDRO\",\"ANTONIN CLAUDIO ROGER\",\"TAJANA LUCA\",\"TOUSCOZ DAVIDE\",\"MILLIERY YVAN\",\"BERRUTI GIACOBBE\",\"TREVISAN EMILIO\",\"GIANSETTO STEFANO\",\"BIANCHI MIRKO\",\"BET MASSIMILIANO\",\"REMONDAZ PIERO\",\"FISANOTTI CLAUDIO GIOVANNI\",\"TREVISAN MATTEO\",\"VIGITELLO CORRADO\",\"BOVIO STEFANO\",\"FUSANI GIANPIERO\",\"ARCARO GIANLUCA\"],\"legendgroup\":\"M\",\"marker\":{\"color\":\"#636efa\",\"symbol\":\"circle\"},\"mode\":\"markers\",\"name\":\"M\",\"orientation\":\"v\",\"showlegend\":true,\"x\":[1,2,3,4,5,6,7,8,9,10,11,12,13,14,15,16,17,18,20,21,22,23,24,25,26,27,28,29,30,31,32,33,34,35,37,38,39,40,41,42,43,44,45,46,47,48,49,50,52,53,55,57,58,59,60,61,62,63,64,65,66,67,68,69,70,73,74,75,76,77,78,79,80,81,82,83,84,85,86,87,88,89,90,91,92,93,94,95,96,97,98,99,101,102,103,104,105,107,108,109,110,111,112,113,114,119,120,121,122,123,124,125,126,128,129,130,131,132,133,134,135,136,137,138,139,143,144,146,147,148,149,150,151,152,155,156,158,161,163,164,165,166,167,168,169,170,171,174,175,176,177,178,180,182,183,184,185,187,191,192,194,195,197,198,199,200,203,205,206,208,209,210,211,212,214,215,217,218,219,220,221,222,223,224,225,226,227,228,229,234,235,236,238,241,242,244,247,248,250,252,255,256],\"xaxis\":\"x\",\"y\":[1,3,4,83,6,27,7,5,8,9,25,21,14,13,16,24,90,85,12,20,114,10,23,15,87,32,157,17,35,22,34,95,94,28,106,33,122,164,102,105,116,128,92,110,159,104,100,31,162,96,146,18,19,145,156,91,93,11,132,30,133,161,185,195,216,26,118,81,150,147,137,140,29,112,89,113,134,154,130,191,135,141,153,131,84,209,98,182,196,206,176,86,149,152,142,211,82,127,178,123,125,139,99,189,163,217,107,138,108,203,179,119,148,180,101,151,193,88,173,204,160,117,205,170,200,172,155,239,224,207,199,120,262,201,210,175,229,238,291,255,124,219,226,194,292,171,289,248,246,253,275,181,165,234,250,259,245,198,144,46,241,186,129,261,212,242,236,293,249,220,257,252,278,267,230,223,244,240,268,298,231,296,284,169,279,237,115,297,254,294,281,269,271,266,295,247,287,270,283,285,299,214],\"yaxis\":\"y\",\"type\":\"scatter\"},{\"hovertemplate\":\"\\u003cb\\u003eLOWESS trendline\\u003c\\u002fb\\u003e\\u003cbr\\u003e\\u003cbr\\u003eSex=M\\u003cbr\\u003ePos=%{x}\\u003cbr\\u003ePettorale=%{y} \\u003cb\\u003e(trend)\\u003c\\u002fb\\u003e\\u003cextra\\u003e\\u003c\\u002fextra\\u003e\",\"legendgroup\":\"M\",\"marker\":{\"color\":\"#636efa\",\"symbol\":\"circle\"},\"mode\":\"lines\",\"name\":\"M\",\"showlegend\":false,\"x\":[1,2,3,4,5,6,7,8,9,10,11,12,13,14,15,16,17,18,20,21,22,23,24,25,26,27,28,29,30,31,32,33,34,35,37,38,39,40,41,42,43,44,45,46,47,48,49,50,52,53,55,57,58,59,60,61,62,63,64,65,66,67,68,69,70,73,74,75,76,77,78,79,80,81,82,83,84,85,86,87,88,89,90,91,92,93,94,95,96,97,98,99,101,102,103,104,105,107,108,109,110,111,112,113,114,119,120,121,122,123,124,125,126,128,129,130,131,132,133,134,135,136,137,138,139,143,144,146,147,148,149,150,151,152,155,156,158,161,163,164,165,166,167,168,169,170,171,174,175,176,177,178,180,182,183,184,185,187,191,192,194,195,197,198,199,200,203,205,206,208,209,210,211,212,214,215,217,218,219,220,221,222,223,224,225,226,227,228,229,234,235,236,238,241,242,244,247,248,250,252,255,256],\"xaxis\":\"x\",\"y\":[17.802934542154482,19.268746121810963,20.73197902435854,22.192591367118805,23.650543066832334,25.105782171687956,26.558257345527597,28.007918533419247,29.454721862305966,30.898632036799167,32.3396223269554,33.777673773617565,35.21277192561684,36.644907973987365,38.07408150557266,39.500301681485546,40.92358680479039,42.34395923032211,45.17600244405417,46.587675497564064,47.99646162709403,49.40237917529471,50.80544010757772,52.2056650809559,53.603087100139724,54.99774928084708,56.38969317788341,57.77896387843553,59.165602791890116,60.54966140760951,61.931204030589,63.31030990107491,64.6870694231224,66.06157097368416,68.80415996738563,70.17245086544156,71.5388791845801,72.90356005262841,74.266604990183,75.62811725097646,76.98819561320019,78.34693444681608,79.7044209565736,81.06073425757394,82.41595102774167,83.77014182167488,85.12336557315184,86.47567518009625,89.1777844783949,90.52773086241784,93.22575524705645,95.92174149440811,97.2691299468803,98.61622668065438,99.96314490006887,101.30998651597763,102.6568290834809,104.0037365522709,105.35075617903253,106.69790912824224,108.04514471851923,109.39231875428608,110.73910840276038,112.08490929614602,113.42871778737302,117.4292430848578,118.74232100013698,120.03815524176471,121.31190362010379,122.36913986449737,123.23302542123164,124.27322500631406,125.30155998783361,126.31821257638212,127.18361195253735,128.18853492221146,129.06491194703608,130.0610753492701,131.04881003307605,132.02905875960045,133.002611012104,133.9702019147115,134.93256801337824,135.89039814830699,136.8444554646391,137.79542334629295,138.73389088886,139.69113934217293,140.6471549564905,141.60254646392332,142.5579469408065,143.47189033802667,145.43213346739591,146.3952321897157,147.3616616948608,148.33198969032682,149.30680712012096,151.36743531382257,152.45779139863805,153.4597952418241,154.4660932743002,155.573129619421,156.5870445945736,157.60411986916714,158.62422878762706,163.82056921638724,164.8997307317338,165.86406756724014,166.88359352486899,167.94173642401654,168.9518240229951,169.95922742217417,170.96346140551134,172.96111622983042,173.95419181294235,174.94332319706294,175.93732891678943,176.91574387237415,177.88993442121696,178.85977282292652,179.825297305985,180.78670401003444,181.75033626368318,182.7063390658763,183.65877405197168,187.45921641493914,188.40164787990696,190.25661781376797,191.16716755172234,192.1018621824816,193.03684754205838,193.9725835757549,194.87979104614757,195.81722948648107,198.61091689700504,199.5556575382673,201.42291114815822,204.28178364900367,206.20024437283527,207.12910418201693,208.09311976949348,209.05972266717697,209.9893771029407,210.917823947351,211.84442608130246,212.7689611044363,213.69142844276172,216.44784926330266,217.3635427767942,218.27790905384367,219.19103383724004,220.10296618591255,221.92332462196092,223.73908278701643,224.64526031670957,225.55030222393742,226.45419290878954,228.25840865286142,231.85185541827667,232.7470013947458,234.53341080893898,235.42468484893922,237.20341332708395,238.09090186385026,238.9771704627692,239.8622413630256,242.51051796283804,244.27049685982925,245.1488938069189,246.90257649238228,247.77788534002096,248.65219231176948,249.52551219430916,250.39785733899774,252.13964668563113,253.00909722567508,254.7451522845296,255.611785825761,256.4775123173842,257.34235105209257,258.2063179230788,259.06942289905686,259.9316771499577,260.7930859222745,261.6536509079538,262.5133797944328,263.37228011063115,264.2303629985127,265.0876401401531,269.3621869090882,270.2147777836708,271.0666052047386,272.7679602574947,275.31420907309405,276.16140860429135,277.85347290796454,280.38570129923266,281.22822184355294,282.91094592110795,284.5906077689788,287.10442525538775,287.94086326455675],\"yaxis\":\"y\",\"type\":\"scatter\"},{\"hovertemplate\":\"\\u003cb\\u003e%{hovertext}\\u003c\\u002fb\\u003e\\u003cbr\\u003e\\u003cbr\\u003eSex=F\\u003cbr\\u003ePos=%{x}\\u003cbr\\u003ePettorale=%{y}\\u003cextra\\u003e\\u003c\\u002fextra\\u003e\",\"hovertext\":[\"VERONESE ILARIA\",\"CONTI FABIOLA\",\"SEGOR LAURA\",\"JUNOD NOEMI\",\"TRUC SYLVIE\",\"VICQU\\u00c9RY CHRISTINE\",\"CRAUSAZ CHRISTINE\",\"MACRI' GIADA\",\"BAROLIN DEBORA\",\"CHIAVAZZA IRMA\",\"TEPPEX FEDERICA\",\"MANIEZZO ALICE\",\"BRUNA VALERIA\",\"TITOLO CLAUDIA\",\"MUTTI PATRIZIA\",\"MALUQUIN SEGOR ANA\\u00cfS\",\"BIANCO ELISA\",\"CANEPA FRANCESCA\",\"FRAMARIN GIULIA\",\"VALSECCHI MONICA\",\"CHAMPVILLAIR ELENA\",\"NOBILI SVEVA\",\"MARCONATO GIUSEPPINA\",\"FERRANDOZ MARINA\",\"MARCHISIO GIULIA\",\"PONT MARCELLA\",\"BLANC MAGUELONNE\",\"TIZZANI ELISABETTA\",\"LUCIANAZ EYVIA\",\"PETITJACQUES SANDY\",\"LALE LACROIX ERIKA\",\"BONATO FLAVIA\",\"SEGATTO GIULIA\",\"MARCHI DANIELA\",\"GHIRARDI MILENA\",\"DALBARD ALINE\",\"COSSARD ARIANNA\",\"DELFINO CATERINA\",\"VERGURA CARMELA\",\"FERROD MONIQUE\",\"CASTAGNA FRANCESCA\",\"GARETTA FRANCESCA\",\"AP\\u00c8RE NICOLETTA\",\"LALE DEMOZ SUSY\",\"BOSONIN ENRICA\",\"SIRIGU DANIELA\",\"ANTONIN SILVIA\",\"RAISIN CHANTAL\",\"CANAVESE CLAUDIA EMMA\",\"MARTINET CAMILLA\",\"COMELLO CLAUDIA\",\"TIRASSA CAROLA\",\"DEMARCHI CRISTINA\",\"MARIAN CARMEN-DIANA\"],\"legendgroup\":\"F\",\"marker\":{\"color\":\"#EF553B\",\"symbol\":\"circle\"},\"mode\":\"markers\",\"name\":\"F\",\"orientation\":\"v\",\"showlegend\":true,\"x\":[19,36,51,54,56,71,72,100,106,115,116,117,118,127,140,141,142,145,153,154,157,159,160,162,172,173,179,181,186,188,189,190,193,196,201,202,204,207,213,216,230,231,232,233,237,239,240,243,245,246,249,251,253,254],\"xaxis\":\"x\",\"y\":[37,36,40,38,41,39,43,213,215,44,111,42,158,190,202,109,188,45,167,258,166,251,300,136,222,183,218,121,233,288,260,256,197,243,126,277,228,272,221,208,47,227,280,265,235,274,187,276,286,264,282,290,263,273],\"yaxis\":\"y\",\"type\":\"scatter\"},{\"hovertemplate\":\"\\u003cb\\u003eLOWESS trendline\\u003c\\u002fb\\u003e\\u003cbr\\u003e\\u003cbr\\u003eSex=F\\u003cbr\\u003ePos=%{x}\\u003cbr\\u003ePettorale=%{y} \\u003cb\\u003e(trend)\\u003c\\u002fb\\u003e\\u003cextra\\u003e\\u003c\\u002fextra\\u003e\",\"legendgroup\":\"F\",\"marker\":{\"color\":\"#EF553B\",\"symbol\":\"circle\"},\"mode\":\"lines\",\"name\":\"F\",\"showlegend\":false,\"x\":[19,36,51,54,56,71,72,100,106,115,116,117,118,127,140,141,142,145,153,154,157,159,160,162,172,173,179,181,186,188,189,190,193,196,201,202,204,207,213,216,230,231,232,233,237,239,240,243,245,246,249,251,253,254],\"xaxis\":\"x\",\"y\":[2.64800784199759,24.5570828495925,44.17308272188497,48.105885688999614,50.72652058644501,70.28129775331395,71.57471360346504,107.32169614760753,115.33658671208505,128.55560662527674,130.11067211917816,131.69098723572696,133.29751815123572,148.31142209616718,167.15850388261526,168.46421058757045,169.72546615014363,173.5379348592834,183.70199137297524,184.949352174489,188.77536368786397,191.41935295851195,192.7773955001446,195.57675838308427,209.36692364355912,210.51819961486663,216.252222369902,217.93070352195062,222.56964857521615,224.46908071777236,225.38900163525764,226.2821522408585,228.63896941557536,230.49196894769295,234.0360216411717,234.79529677505798,236.23993431447568,238.38315884630896,242.84312910156024,244.99522470224346,254.67420928744033,255.3580161283906,256.04194791345554,256.72622457874115,259.46944532085905,260.8462627283948,261.5364708578271,263.6165305869364,265.0135875137008,265.71582129374883,267.83862607157596,269.26796381805997,270.7087387270235,271.4332631788941],\"yaxis\":\"y\",\"type\":\"scatter\"}],                        {\"template\":{\"data\":{\"histogram2dcontour\":[{\"type\":\"histogram2dcontour\",\"colorbar\":{\"outlinewidth\":0,\"ticks\":\"\"},\"colorscale\":[[0.0,\"#0d0887\"],[0.1111111111111111,\"#46039f\"],[0.2222222222222222,\"#7201a8\"],[0.3333333333333333,\"#9c179e\"],[0.4444444444444444,\"#bd3786\"],[0.5555555555555556,\"#d8576b\"],[0.6666666666666666,\"#ed7953\"],[0.7777777777777778,\"#fb9f3a\"],[0.8888888888888888,\"#fdca26\"],[1.0,\"#f0f921\"]]}],\"choropleth\":[{\"type\":\"choropleth\",\"colorbar\":{\"outlinewidth\":0,\"ticks\":\"\"}}],\"histogram2d\":[{\"type\":\"histogram2d\",\"colorbar\":{\"outlinewidth\":0,\"ticks\":\"\"},\"colorscale\":[[0.0,\"#0d0887\"],[0.1111111111111111,\"#46039f\"],[0.2222222222222222,\"#7201a8\"],[0.3333333333333333,\"#9c179e\"],[0.4444444444444444,\"#bd3786\"],[0.5555555555555556,\"#d8576b\"],[0.6666666666666666,\"#ed7953\"],[0.7777777777777778,\"#fb9f3a\"],[0.8888888888888888,\"#fdca26\"],[1.0,\"#f0f921\"]]}],\"heatmap\":[{\"type\":\"heatmap\",\"colorbar\":{\"outlinewidth\":0,\"ticks\":\"\"},\"colorscale\":[[0.0,\"#0d0887\"],[0.1111111111111111,\"#46039f\"],[0.2222222222222222,\"#7201a8\"],[0.3333333333333333,\"#9c179e\"],[0.4444444444444444,\"#bd3786\"],[0.5555555555555556,\"#d8576b\"],[0.6666666666666666,\"#ed7953\"],[0.7777777777777778,\"#fb9f3a\"],[0.8888888888888888,\"#fdca26\"],[1.0,\"#f0f921\"]]}],\"heatmapgl\":[{\"type\":\"heatmapgl\",\"colorbar\":{\"outlinewidth\":0,\"ticks\":\"\"},\"colorscale\":[[0.0,\"#0d0887\"],[0.1111111111111111,\"#46039f\"],[0.2222222222222222,\"#7201a8\"],[0.3333333333333333,\"#9c179e\"],[0.4444444444444444,\"#bd3786\"],[0.5555555555555556,\"#d8576b\"],[0.6666666666666666,\"#ed7953\"],[0.7777777777777778,\"#fb9f3a\"],[0.8888888888888888,\"#fdca26\"],[1.0,\"#f0f921\"]]}],\"contourcarpet\":[{\"type\":\"contourcarpet\",\"colorbar\":{\"outlinewidth\":0,\"ticks\":\"\"}}],\"contour\":[{\"type\":\"contour\",\"colorbar\":{\"outlinewidth\":0,\"ticks\":\"\"},\"colorscale\":[[0.0,\"#0d0887\"],[0.1111111111111111,\"#46039f\"],[0.2222222222222222,\"#7201a8\"],[0.3333333333333333,\"#9c179e\"],[0.4444444444444444,\"#bd3786\"],[0.5555555555555556,\"#d8576b\"],[0.6666666666666666,\"#ed7953\"],[0.7777777777777778,\"#fb9f3a\"],[0.8888888888888888,\"#fdca26\"],[1.0,\"#f0f921\"]]}],\"surface\":[{\"type\":\"surface\",\"colorbar\":{\"outlinewidth\":0,\"ticks\":\"\"},\"colorscale\":[[0.0,\"#0d0887\"],[0.1111111111111111,\"#46039f\"],[0.2222222222222222,\"#7201a8\"],[0.3333333333333333,\"#9c179e\"],[0.4444444444444444,\"#bd3786\"],[0.5555555555555556,\"#d8576b\"],[0.6666666666666666,\"#ed7953\"],[0.7777777777777778,\"#fb9f3a\"],[0.8888888888888888,\"#fdca26\"],[1.0,\"#f0f921\"]]}],\"mesh3d\":[{\"type\":\"mesh3d\",\"colorbar\":{\"outlinewidth\":0,\"ticks\":\"\"}}],\"scatter\":[{\"marker\":{\"line\":{\"color\":\"#283442\"}},\"type\":\"scatter\"}],\"parcoords\":[{\"type\":\"parcoords\",\"line\":{\"colorbar\":{\"outlinewidth\":0,\"ticks\":\"\"}}}],\"scatterpolargl\":[{\"type\":\"scatterpolargl\",\"marker\":{\"colorbar\":{\"outlinewidth\":0,\"ticks\":\"\"}}}],\"bar\":[{\"error_x\":{\"color\":\"#f2f5fa\"},\"error_y\":{\"color\":\"#f2f5fa\"},\"marker\":{\"line\":{\"color\":\"rgb(17,17,17)\",\"width\":0.5},\"pattern\":{\"fillmode\":\"overlay\",\"size\":10,\"solidity\":0.2}},\"type\":\"bar\"}],\"scattergeo\":[{\"type\":\"scattergeo\",\"marker\":{\"colorbar\":{\"outlinewidth\":0,\"ticks\":\"\"}}}],\"scatterpolar\":[{\"type\":\"scatterpolar\",\"marker\":{\"colorbar\":{\"outlinewidth\":0,\"ticks\":\"\"}}}],\"histogram\":[{\"marker\":{\"pattern\":{\"fillmode\":\"overlay\",\"size\":10,\"solidity\":0.2}},\"type\":\"histogram\"}],\"scattergl\":[{\"marker\":{\"line\":{\"color\":\"#283442\"}},\"type\":\"scattergl\"}],\"scatter3d\":[{\"type\":\"scatter3d\",\"line\":{\"colorbar\":{\"outlinewidth\":0,\"ticks\":\"\"}},\"marker\":{\"colorbar\":{\"outlinewidth\":0,\"ticks\":\"\"}}}],\"scattermapbox\":[{\"type\":\"scattermapbox\",\"marker\":{\"colorbar\":{\"outlinewidth\":0,\"ticks\":\"\"}}}],\"scatterternary\":[{\"type\":\"scatterternary\",\"marker\":{\"colorbar\":{\"outlinewidth\":0,\"ticks\":\"\"}}}],\"scattercarpet\":[{\"type\":\"scattercarpet\",\"marker\":{\"colorbar\":{\"outlinewidth\":0,\"ticks\":\"\"}}}],\"carpet\":[{\"aaxis\":{\"endlinecolor\":\"#A2B1C6\",\"gridcolor\":\"#506784\",\"linecolor\":\"#506784\",\"minorgridcolor\":\"#506784\",\"startlinecolor\":\"#A2B1C6\"},\"baxis\":{\"endlinecolor\":\"#A2B1C6\",\"gridcolor\":\"#506784\",\"linecolor\":\"#506784\",\"minorgridcolor\":\"#506784\",\"startlinecolor\":\"#A2B1C6\"},\"type\":\"carpet\"}],\"table\":[{\"cells\":{\"fill\":{\"color\":\"#506784\"},\"line\":{\"color\":\"rgb(17,17,17)\"}},\"header\":{\"fill\":{\"color\":\"#2a3f5f\"},\"line\":{\"color\":\"rgb(17,17,17)\"}},\"type\":\"table\"}],\"barpolar\":[{\"marker\":{\"line\":{\"color\":\"rgb(17,17,17)\",\"width\":0.5},\"pattern\":{\"fillmode\":\"overlay\",\"size\":10,\"solidity\":0.2}},\"type\":\"barpolar\"}],\"pie\":[{\"automargin\":true,\"type\":\"pie\"}]},\"layout\":{\"autotypenumbers\":\"strict\",\"colorway\":[\"#636efa\",\"#EF553B\",\"#00cc96\",\"#ab63fa\",\"#FFA15A\",\"#19d3f3\",\"#FF6692\",\"#B6E880\",\"#FF97FF\",\"#FECB52\"],\"font\":{\"color\":\"#f2f5fa\"},\"hovermode\":\"closest\",\"hoverlabel\":{\"align\":\"left\"},\"paper_bgcolor\":\"rgb(17,17,17)\",\"plot_bgcolor\":\"rgb(17,17,17)\",\"polar\":{\"bgcolor\":\"rgb(17,17,17)\",\"angularaxis\":{\"gridcolor\":\"#506784\",\"linecolor\":\"#506784\",\"ticks\":\"\"},\"radialaxis\":{\"gridcolor\":\"#506784\",\"linecolor\":\"#506784\",\"ticks\":\"\"}},\"ternary\":{\"bgcolor\":\"rgb(17,17,17)\",\"aaxis\":{\"gridcolor\":\"#506784\",\"linecolor\":\"#506784\",\"ticks\":\"\"},\"baxis\":{\"gridcolor\":\"#506784\",\"linecolor\":\"#506784\",\"ticks\":\"\"},\"caxis\":{\"gridcolor\":\"#506784\",\"linecolor\":\"#506784\",\"ticks\":\"\"}},\"coloraxis\":{\"colorbar\":{\"outlinewidth\":0,\"ticks\":\"\"}},\"colorscale\":{\"sequential\":[[0.0,\"#0d0887\"],[0.1111111111111111,\"#46039f\"],[0.2222222222222222,\"#7201a8\"],[0.3333333333333333,\"#9c179e\"],[0.4444444444444444,\"#bd3786\"],[0.5555555555555556,\"#d8576b\"],[0.6666666666666666,\"#ed7953\"],[0.7777777777777778,\"#fb9f3a\"],[0.8888888888888888,\"#fdca26\"],[1.0,\"#f0f921\"]],\"sequentialminus\":[[0.0,\"#0d0887\"],[0.1111111111111111,\"#46039f\"],[0.2222222222222222,\"#7201a8\"],[0.3333333333333333,\"#9c179e\"],[0.4444444444444444,\"#bd3786\"],[0.5555555555555556,\"#d8576b\"],[0.6666666666666666,\"#ed7953\"],[0.7777777777777778,\"#fb9f3a\"],[0.8888888888888888,\"#fdca26\"],[1.0,\"#f0f921\"]],\"diverging\":[[0,\"#8e0152\"],[0.1,\"#c51b7d\"],[0.2,\"#de77ae\"],[0.3,\"#f1b6da\"],[0.4,\"#fde0ef\"],[0.5,\"#f7f7f7\"],[0.6,\"#e6f5d0\"],[0.7,\"#b8e186\"],[0.8,\"#7fbc41\"],[0.9,\"#4d9221\"],[1,\"#276419\"]]},\"xaxis\":{\"gridcolor\":\"#283442\",\"linecolor\":\"#506784\",\"ticks\":\"\",\"title\":{\"standoff\":15},\"zerolinecolor\":\"#283442\",\"automargin\":true,\"zerolinewidth\":2},\"yaxis\":{\"gridcolor\":\"#283442\",\"linecolor\":\"#506784\",\"ticks\":\"\",\"title\":{\"standoff\":15},\"zerolinecolor\":\"#283442\",\"automargin\":true,\"zerolinewidth\":2},\"scene\":{\"xaxis\":{\"backgroundcolor\":\"rgb(17,17,17)\",\"gridcolor\":\"#506784\",\"linecolor\":\"#506784\",\"showbackground\":true,\"ticks\":\"\",\"zerolinecolor\":\"#C8D4E3\",\"gridwidth\":2},\"yaxis\":{\"backgroundcolor\":\"rgb(17,17,17)\",\"gridcolor\":\"#506784\",\"linecolor\":\"#506784\",\"showbackground\":true,\"ticks\":\"\",\"zerolinecolor\":\"#C8D4E3\",\"gridwidth\":2},\"zaxis\":{\"backgroundcolor\":\"rgb(17,17,17)\",\"gridcolor\":\"#506784\",\"linecolor\":\"#506784\",\"showbackground\":true,\"ticks\":\"\",\"zerolinecolor\":\"#C8D4E3\",\"gridwidth\":2}},\"shapedefaults\":{\"line\":{\"color\":\"#f2f5fa\"}},\"annotationdefaults\":{\"arrowcolor\":\"#f2f5fa\",\"arrowhead\":0,\"arrowwidth\":1},\"geo\":{\"bgcolor\":\"rgb(17,17,17)\",\"landcolor\":\"rgb(17,17,17)\",\"subunitcolor\":\"#506784\",\"showland\":true,\"showlakes\":true,\"lakecolor\":\"rgb(17,17,17)\"},\"title\":{\"x\":0.05},\"updatemenudefaults\":{\"bgcolor\":\"#506784\",\"borderwidth\":0},\"sliderdefaults\":{\"bgcolor\":\"#C8D4E3\",\"borderwidth\":1,\"bordercolor\":\"rgb(17,17,17)\",\"tickwidth\":0},\"mapbox\":{\"style\":\"dark\"}}},\"xaxis\":{\"anchor\":\"y\",\"domain\":[0.0,1.0],\"title\":{\"text\":\"Pos\"}},\"yaxis\":{\"anchor\":\"x\",\"domain\":[0.0,1.0],\"title\":{\"text\":\"Pettorale\"}},\"legend\":{\"title\":{\"text\":\"Sex\"},\"tracegroupgap\":0},\"margin\":{\"t\":60}},                        {\"responsive\": true}                    ).then(function(){\n",
       "                            \n",
       "var gd = document.getElementById('9fe27ca5-6465-4a7e-ab99-1b15ae4a43e0');\n",
       "var x = new MutationObserver(function (mutations, observer) {{\n",
       "        var display = window.getComputedStyle(gd).display;\n",
       "        if (!display || display === 'none') {{\n",
       "            console.log([gd, 'removed!']);\n",
       "            Plotly.purge(gd);\n",
       "            observer.disconnect();\n",
       "        }}\n",
       "}});\n",
       "\n",
       "// Listen for the removal of the full notebook cells\n",
       "var notebookContainer = gd.closest('#notebook-container');\n",
       "if (notebookContainer) {{\n",
       "    x.observe(notebookContainer, {childList: true});\n",
       "}}\n",
       "\n",
       "// Listen for the clearing of the current output cell\n",
       "var outputEl = gd.closest('.output');\n",
       "if (outputEl) {{\n",
       "    x.observe(outputEl, {childList: true});\n",
       "}}\n",
       "\n",
       "                        })                };                });            </script>        </div>"
      ]
     },
     "metadata": {},
     "output_type": "display_data"
    }
   ],
   "execution_count": 13
  },
  {
   "metadata": {
    "ExecuteTime": {
     "end_time": "2024-11-04T15:50:22.353712Z",
     "start_time": "2024-11-04T15:50:22.348685Z"
    }
   },
   "cell_type": "code",
   "source": [
    "df.filter(\n",
    "    pl.col(\"Sex\") == \"F\"\n",
    ").select(pl.corr(\"Pos\", \"Pettorale\"))"
   ],
   "id": "43de7242ef358485",
   "outputs": [
    {
     "data": {
      "text/plain": [
       "shape: (1, 1)\n",
       "┌─────────┐\n",
       "│ Pos     │\n",
       "│ ---     │\n",
       "│ f64     │\n",
       "╞═════════╡\n",
       "│ 0.75169 │\n",
       "└─────────┘"
      ],
      "text/html": [
       "<div><style>\n",
       ".dataframe > thead > tr,\n",
       ".dataframe > tbody > tr {\n",
       "  text-align: right;\n",
       "  white-space: pre-wrap;\n",
       "}\n",
       "</style>\n",
       "<small>shape: (1, 1)</small><table border=\"1\" class=\"dataframe\"><thead><tr><th>Pos</th></tr><tr><td>f64</td></tr></thead><tbody><tr><td>0.75169</td></tr></tbody></table></div>"
      ]
     },
     "execution_count": 5,
     "metadata": {},
     "output_type": "execute_result"
    }
   ],
   "execution_count": 5
  },
  {
   "metadata": {
    "ExecuteTime": {
     "end_time": "2024-11-04T15:50:22.423777Z",
     "start_time": "2024-11-04T15:50:22.412098Z"
    }
   },
   "cell_type": "code",
   "source": [
    "for cat in df.select(pl.col(\"Cat\")).unique()[\"Cat\"].to_list():\n",
    "    if cat is None:\n",
    "        continue\n",
    "    print(cat)\n",
    "    print(df.filter(pl.col(\"Cat\") == cat).select(pl.corr(\"Pos\", \"Pettorale\"))['Pos'][0])"
   ],
   "id": "7a345fd24e2b510c",
   "outputs": [
    {
     "name": "stdout",
     "output_type": "stream",
     "text": [
      "OVER20_M\n",
      "0.8075780184706248\n",
      "OVER60_M\n",
      "0.7728477740260623\n",
      "OVER20_F\n",
      "0.8310365277182045\n",
      "OVER50_F\n",
      "0.4803294715201782\n",
      "UNDER20_F\n",
      "0.9623074484450574\n",
      "UNDER16_F\n",
      "nan\n",
      "OVER50_M\n",
      "0.8326812324206826\n",
      "UNDER20_M\n",
      "0.7412203736012973\n",
      "OVER60_F\n",
      "1.0\n",
      "OVER35_F\n",
      "0.9368174086098748\n",
      "UNDER16_M\n",
      "0.7439415596459199\n",
      "OVER35_M\n",
      "0.8266574397948221\n"
     ]
    }
   ],
   "execution_count": 6
  },
  {
   "metadata": {
    "ExecuteTime": {
     "end_time": "2024-11-04T15:50:22.463572Z",
     "start_time": "2024-11-04T15:50:22.461751Z"
    }
   },
   "cell_type": "code",
   "source": "",
   "id": "fb3019502239016f",
   "outputs": [],
   "execution_count": null
  },
  {
   "metadata": {
    "ExecuteTime": {
     "end_time": "2024-11-04T15:50:22.607975Z",
     "start_time": "2024-11-04T15:50:22.606337Z"
    }
   },
   "cell_type": "code",
   "source": "",
   "id": "a256836dc4fd766f",
   "outputs": [],
   "execution_count": null
  }
 ],
 "metadata": {
  "kernelspec": {
   "display_name": "Python 3",
   "language": "python",
   "name": "python3"
  },
  "language_info": {
   "codemirror_mode": {
    "name": "ipython",
    "version": 2
   },
   "file_extension": ".py",
   "mimetype": "text/x-python",
   "name": "python",
   "nbconvert_exporter": "python",
   "pygments_lexer": "ipython2",
   "version": "2.7.6"
  }
 },
 "nbformat": 4,
 "nbformat_minor": 5
}
